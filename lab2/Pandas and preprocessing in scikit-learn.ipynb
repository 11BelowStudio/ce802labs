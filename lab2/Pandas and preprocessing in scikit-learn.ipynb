{
 "cells": [
  {
   "cell_type": "markdown",
   "metadata": {},
   "source": [
    "# Data preparation for machine learning"
   ]
  },
  {
   "cell_type": "markdown",
   "metadata": {},
   "source": [
    "By: Jacobo Fernandez-Vargas and Luca Citi\n",
    "\n",
    "Based on the [scikit-learn](http://scikit-learn.org/stable/tutorial/basic/tutorial.html) and [pandas](https://pandas.pydata.org/docs/getting_started/index.html) documentation"
   ]
  },
  {
   "cell_type": "markdown",
   "metadata": {},
   "source": [
    "## Loading data with Pandas"
   ]
  },
  {
   "cell_type": "markdown",
   "metadata": {},
   "source": [
    "Pandas is a powerful library used in data analysis. We are not going to explore all its options but only focus on those functionalities that allow us to read data that contains non-numeric values such as text or dates. Pandas can also load data from excel files using the library 'xlrd'. Pandas supports reading and writing other complex data types such as sql, json, html and many more.\n",
    "When reading CSV files, Pandas tries to infer the type from the values in each column. We can force Pandas to treat a column as containing dates and even specify that we want to treat dates as 'dayfirst', i.e. DD/MM/YYYY (the way used in several countries, including the UK) rather than MM/DD/YYYY (like in the USA).\n",
    "If we have all numeric values in a CSV format we can also use Numpy directly to read the table but we will not have access to Pandas functionalities."
   ]
  },
  {
   "cell_type": "code",
   "execution_count": 375,
   "metadata": {},
   "outputs": [],
   "source": [
    "import pandas as pd"
   ]
  },
  {
   "cell_type": "code",
   "execution_count": 376,
   "metadata": {},
   "outputs": [
    {
     "data": {
      "text/plain": "         Date  Time    Size Colour        Cost  Label\n0  2020-10-16  11.0   Small   Blue  109.521068      1\n1  2020-10-16  13.0   Small    Red  112.141170      1\n2  2020-10-16  17.0  Medium  Green  112.004677      1\n3  2020-10-17   9.0   Large  Green   15.112922      0\n4  2020-10-17  11.0   Large  Green  105.663642      1\n5  2020-10-17  17.0  Medium  Green    5.158097      0\n6  2020-10-18   9.0   Small   Blue  107.947930      1\n7  2020-10-18   NaN   Large    Red    8.320838      0\n8  2020-10-18  13.0   Large    Red  113.424684      1\n9  2020-10-18  15.0   Small   Blue  103.223563      1\n10 2020-10-18  17.0   Large    Red  115.190210      1\n11 2020-10-19   9.0  Medium   Blue  105.216665      1\n12 2020-10-19  11.0   Small    Red  103.433604      1\n13 2020-10-19  13.0   Large   Blue   15.599248      0\n14 2020-10-19  15.0   Small    Red   12.904205      0\n15 2020-10-20   9.0   Small    Red   19.042334      0\n16 2020-10-20   NaN   Large   Blue  113.658567      1\n17 2020-10-20  17.0  Medium    Red  115.991724      1\n18 2020-10-23  11.0  Medium   Blue    3.643787      0\n19 2020-10-24  11.0  Medium    Red  118.108710      1\n20 2020-10-25  11.0   Large  Green   14.973611      0\n21 2020-10-25   NaN   Large   Blue   10.699388      0\n22 2020-10-25  15.0   Large    Red  106.224366      1\n23 2020-10-26  11.0   Large    Red  114.638621      1\n24 2020-10-26  13.0   Small   Blue    1.228235      0\n25 2020-10-27  11.0   Large    Red    5.791450      0\n26 2020-10-28   9.0   Small    Red    8.606806      0\n27 2020-10-28  13.0   Large   Blue   12.414377      0\n28 2020-10-30   NaN   Large    Red  115.663402      1\n29 2020-10-30  13.0   Small   Blue  115.410273      1\n30 2020-10-30  11.0   Small    Red  105.401517      1\n31 2020-10-31  13.0  Medium  Green    0.137767      0\n32 2020-11-01   9.0   Large  Green  112.661384      1",
      "text/html": "<div>\n<style scoped>\n    .dataframe tbody tr th:only-of-type {\n        vertical-align: middle;\n    }\n\n    .dataframe tbody tr th {\n        vertical-align: top;\n    }\n\n    .dataframe thead th {\n        text-align: right;\n    }\n</style>\n<table border=\"1\" class=\"dataframe\">\n  <thead>\n    <tr style=\"text-align: right;\">\n      <th></th>\n      <th>Date</th>\n      <th>Time</th>\n      <th>Size</th>\n      <th>Colour</th>\n      <th>Cost</th>\n      <th>Label</th>\n    </tr>\n  </thead>\n  <tbody>\n    <tr>\n      <th>0</th>\n      <td>2020-10-16</td>\n      <td>11.0</td>\n      <td>Small</td>\n      <td>Blue</td>\n      <td>109.521068</td>\n      <td>1</td>\n    </tr>\n    <tr>\n      <th>1</th>\n      <td>2020-10-16</td>\n      <td>13.0</td>\n      <td>Small</td>\n      <td>Red</td>\n      <td>112.141170</td>\n      <td>1</td>\n    </tr>\n    <tr>\n      <th>2</th>\n      <td>2020-10-16</td>\n      <td>17.0</td>\n      <td>Medium</td>\n      <td>Green</td>\n      <td>112.004677</td>\n      <td>1</td>\n    </tr>\n    <tr>\n      <th>3</th>\n      <td>2020-10-17</td>\n      <td>9.0</td>\n      <td>Large</td>\n      <td>Green</td>\n      <td>15.112922</td>\n      <td>0</td>\n    </tr>\n    <tr>\n      <th>4</th>\n      <td>2020-10-17</td>\n      <td>11.0</td>\n      <td>Large</td>\n      <td>Green</td>\n      <td>105.663642</td>\n      <td>1</td>\n    </tr>\n    <tr>\n      <th>5</th>\n      <td>2020-10-17</td>\n      <td>17.0</td>\n      <td>Medium</td>\n      <td>Green</td>\n      <td>5.158097</td>\n      <td>0</td>\n    </tr>\n    <tr>\n      <th>6</th>\n      <td>2020-10-18</td>\n      <td>9.0</td>\n      <td>Small</td>\n      <td>Blue</td>\n      <td>107.947930</td>\n      <td>1</td>\n    </tr>\n    <tr>\n      <th>7</th>\n      <td>2020-10-18</td>\n      <td>NaN</td>\n      <td>Large</td>\n      <td>Red</td>\n      <td>8.320838</td>\n      <td>0</td>\n    </tr>\n    <tr>\n      <th>8</th>\n      <td>2020-10-18</td>\n      <td>13.0</td>\n      <td>Large</td>\n      <td>Red</td>\n      <td>113.424684</td>\n      <td>1</td>\n    </tr>\n    <tr>\n      <th>9</th>\n      <td>2020-10-18</td>\n      <td>15.0</td>\n      <td>Small</td>\n      <td>Blue</td>\n      <td>103.223563</td>\n      <td>1</td>\n    </tr>\n    <tr>\n      <th>10</th>\n      <td>2020-10-18</td>\n      <td>17.0</td>\n      <td>Large</td>\n      <td>Red</td>\n      <td>115.190210</td>\n      <td>1</td>\n    </tr>\n    <tr>\n      <th>11</th>\n      <td>2020-10-19</td>\n      <td>9.0</td>\n      <td>Medium</td>\n      <td>Blue</td>\n      <td>105.216665</td>\n      <td>1</td>\n    </tr>\n    <tr>\n      <th>12</th>\n      <td>2020-10-19</td>\n      <td>11.0</td>\n      <td>Small</td>\n      <td>Red</td>\n      <td>103.433604</td>\n      <td>1</td>\n    </tr>\n    <tr>\n      <th>13</th>\n      <td>2020-10-19</td>\n      <td>13.0</td>\n      <td>Large</td>\n      <td>Blue</td>\n      <td>15.599248</td>\n      <td>0</td>\n    </tr>\n    <tr>\n      <th>14</th>\n      <td>2020-10-19</td>\n      <td>15.0</td>\n      <td>Small</td>\n      <td>Red</td>\n      <td>12.904205</td>\n      <td>0</td>\n    </tr>\n    <tr>\n      <th>15</th>\n      <td>2020-10-20</td>\n      <td>9.0</td>\n      <td>Small</td>\n      <td>Red</td>\n      <td>19.042334</td>\n      <td>0</td>\n    </tr>\n    <tr>\n      <th>16</th>\n      <td>2020-10-20</td>\n      <td>NaN</td>\n      <td>Large</td>\n      <td>Blue</td>\n      <td>113.658567</td>\n      <td>1</td>\n    </tr>\n    <tr>\n      <th>17</th>\n      <td>2020-10-20</td>\n      <td>17.0</td>\n      <td>Medium</td>\n      <td>Red</td>\n      <td>115.991724</td>\n      <td>1</td>\n    </tr>\n    <tr>\n      <th>18</th>\n      <td>2020-10-23</td>\n      <td>11.0</td>\n      <td>Medium</td>\n      <td>Blue</td>\n      <td>3.643787</td>\n      <td>0</td>\n    </tr>\n    <tr>\n      <th>19</th>\n      <td>2020-10-24</td>\n      <td>11.0</td>\n      <td>Medium</td>\n      <td>Red</td>\n      <td>118.108710</td>\n      <td>1</td>\n    </tr>\n    <tr>\n      <th>20</th>\n      <td>2020-10-25</td>\n      <td>11.0</td>\n      <td>Large</td>\n      <td>Green</td>\n      <td>14.973611</td>\n      <td>0</td>\n    </tr>\n    <tr>\n      <th>21</th>\n      <td>2020-10-25</td>\n      <td>NaN</td>\n      <td>Large</td>\n      <td>Blue</td>\n      <td>10.699388</td>\n      <td>0</td>\n    </tr>\n    <tr>\n      <th>22</th>\n      <td>2020-10-25</td>\n      <td>15.0</td>\n      <td>Large</td>\n      <td>Red</td>\n      <td>106.224366</td>\n      <td>1</td>\n    </tr>\n    <tr>\n      <th>23</th>\n      <td>2020-10-26</td>\n      <td>11.0</td>\n      <td>Large</td>\n      <td>Red</td>\n      <td>114.638621</td>\n      <td>1</td>\n    </tr>\n    <tr>\n      <th>24</th>\n      <td>2020-10-26</td>\n      <td>13.0</td>\n      <td>Small</td>\n      <td>Blue</td>\n      <td>1.228235</td>\n      <td>0</td>\n    </tr>\n    <tr>\n      <th>25</th>\n      <td>2020-10-27</td>\n      <td>11.0</td>\n      <td>Large</td>\n      <td>Red</td>\n      <td>5.791450</td>\n      <td>0</td>\n    </tr>\n    <tr>\n      <th>26</th>\n      <td>2020-10-28</td>\n      <td>9.0</td>\n      <td>Small</td>\n      <td>Red</td>\n      <td>8.606806</td>\n      <td>0</td>\n    </tr>\n    <tr>\n      <th>27</th>\n      <td>2020-10-28</td>\n      <td>13.0</td>\n      <td>Large</td>\n      <td>Blue</td>\n      <td>12.414377</td>\n      <td>0</td>\n    </tr>\n    <tr>\n      <th>28</th>\n      <td>2020-10-30</td>\n      <td>NaN</td>\n      <td>Large</td>\n      <td>Red</td>\n      <td>115.663402</td>\n      <td>1</td>\n    </tr>\n    <tr>\n      <th>29</th>\n      <td>2020-10-30</td>\n      <td>13.0</td>\n      <td>Small</td>\n      <td>Blue</td>\n      <td>115.410273</td>\n      <td>1</td>\n    </tr>\n    <tr>\n      <th>30</th>\n      <td>2020-10-30</td>\n      <td>11.0</td>\n      <td>Small</td>\n      <td>Red</td>\n      <td>105.401517</td>\n      <td>1</td>\n    </tr>\n    <tr>\n      <th>31</th>\n      <td>2020-10-31</td>\n      <td>13.0</td>\n      <td>Medium</td>\n      <td>Green</td>\n      <td>0.137767</td>\n      <td>0</td>\n    </tr>\n    <tr>\n      <th>32</th>\n      <td>2020-11-01</td>\n      <td>9.0</td>\n      <td>Large</td>\n      <td>Green</td>\n      <td>112.661384</td>\n      <td>1</td>\n    </tr>\n  </tbody>\n</table>\n</div>"
     },
     "execution_count": 376,
     "metadata": {},
     "output_type": "execute_result"
    }
   ],
   "source": [
    "import sklearn.base\n",
    "\n",
    "data = pd.read_csv('example1.csv', parse_dates=['Date'], dayfirst=True)\n",
    "data"
   ]
  },
  {
   "cell_type": "markdown",
   "metadata": {},
   "source": [
    "Just like `ndarray` is the fundamental brick of the numpy library, the dataframe is the fundamental brick of the pandas library.\n",
    "A dataframe is a table where each column is a variable (or series as they are called in Pandas) and each row is a sample. We can access each series using the name of the variable, either using the index notation (`df['v']`) or as field of the object (`df.v`). The latter notation can only be used when the field name is a valid field name (e.g., column '3a' can only be accessed as `df['3a']`).\n",
    "\n",
    "The method `head` shows only the first 5 entries of the table."
   ]
  },
  {
   "cell_type": "code",
   "execution_count": 377,
   "metadata": {},
   "outputs": [
    {
     "name": "stdout",
     "output_type": "stream",
     "text": [
      "0   2020-10-16\n",
      "1   2020-10-16\n",
      "2   2020-10-16\n",
      "3   2020-10-17\n",
      "4   2020-10-17\n",
      "Name: Date, dtype: datetime64[ns]\n",
      "0   2020-10-16\n",
      "1   2020-10-16\n",
      "2   2020-10-16\n",
      "3   2020-10-17\n",
      "4   2020-10-17\n",
      "Name: Date, dtype: datetime64[ns]\n"
     ]
    }
   ],
   "source": [
    "print(data['Date'].head())\n",
    "print(data.Date.head())"
   ]
  },
  {
   "cell_type": "markdown",
   "metadata": {},
   "source": [
    "To select rows, we ca use either a conditional format or a more traditional indexing.\n",
    "For example let's select the rows for which the color is blue."
   ]
  },
  {
   "cell_type": "code",
   "execution_count": 378,
   "metadata": {},
   "outputs": [
    {
     "data": {
      "text/plain": "         Date  Time    Size Colour        Cost  Label\n0  2020-10-16  11.0   Small   Blue  109.521068      1\n6  2020-10-18   9.0   Small   Blue  107.947930      1\n9  2020-10-18  15.0   Small   Blue  103.223563      1\n11 2020-10-19   9.0  Medium   Blue  105.216665      1\n13 2020-10-19  13.0   Large   Blue   15.599248      0\n16 2020-10-20   NaN   Large   Blue  113.658567      1\n18 2020-10-23  11.0  Medium   Blue    3.643787      0\n21 2020-10-25   NaN   Large   Blue   10.699388      0\n24 2020-10-26  13.0   Small   Blue    1.228235      0\n27 2020-10-28  13.0   Large   Blue   12.414377      0\n29 2020-10-30  13.0   Small   Blue  115.410273      1",
      "text/html": "<div>\n<style scoped>\n    .dataframe tbody tr th:only-of-type {\n        vertical-align: middle;\n    }\n\n    .dataframe tbody tr th {\n        vertical-align: top;\n    }\n\n    .dataframe thead th {\n        text-align: right;\n    }\n</style>\n<table border=\"1\" class=\"dataframe\">\n  <thead>\n    <tr style=\"text-align: right;\">\n      <th></th>\n      <th>Date</th>\n      <th>Time</th>\n      <th>Size</th>\n      <th>Colour</th>\n      <th>Cost</th>\n      <th>Label</th>\n    </tr>\n  </thead>\n  <tbody>\n    <tr>\n      <th>0</th>\n      <td>2020-10-16</td>\n      <td>11.0</td>\n      <td>Small</td>\n      <td>Blue</td>\n      <td>109.521068</td>\n      <td>1</td>\n    </tr>\n    <tr>\n      <th>6</th>\n      <td>2020-10-18</td>\n      <td>9.0</td>\n      <td>Small</td>\n      <td>Blue</td>\n      <td>107.947930</td>\n      <td>1</td>\n    </tr>\n    <tr>\n      <th>9</th>\n      <td>2020-10-18</td>\n      <td>15.0</td>\n      <td>Small</td>\n      <td>Blue</td>\n      <td>103.223563</td>\n      <td>1</td>\n    </tr>\n    <tr>\n      <th>11</th>\n      <td>2020-10-19</td>\n      <td>9.0</td>\n      <td>Medium</td>\n      <td>Blue</td>\n      <td>105.216665</td>\n      <td>1</td>\n    </tr>\n    <tr>\n      <th>13</th>\n      <td>2020-10-19</td>\n      <td>13.0</td>\n      <td>Large</td>\n      <td>Blue</td>\n      <td>15.599248</td>\n      <td>0</td>\n    </tr>\n    <tr>\n      <th>16</th>\n      <td>2020-10-20</td>\n      <td>NaN</td>\n      <td>Large</td>\n      <td>Blue</td>\n      <td>113.658567</td>\n      <td>1</td>\n    </tr>\n    <tr>\n      <th>18</th>\n      <td>2020-10-23</td>\n      <td>11.0</td>\n      <td>Medium</td>\n      <td>Blue</td>\n      <td>3.643787</td>\n      <td>0</td>\n    </tr>\n    <tr>\n      <th>21</th>\n      <td>2020-10-25</td>\n      <td>NaN</td>\n      <td>Large</td>\n      <td>Blue</td>\n      <td>10.699388</td>\n      <td>0</td>\n    </tr>\n    <tr>\n      <th>24</th>\n      <td>2020-10-26</td>\n      <td>13.0</td>\n      <td>Small</td>\n      <td>Blue</td>\n      <td>1.228235</td>\n      <td>0</td>\n    </tr>\n    <tr>\n      <th>27</th>\n      <td>2020-10-28</td>\n      <td>13.0</td>\n      <td>Large</td>\n      <td>Blue</td>\n      <td>12.414377</td>\n      <td>0</td>\n    </tr>\n    <tr>\n      <th>29</th>\n      <td>2020-10-30</td>\n      <td>13.0</td>\n      <td>Small</td>\n      <td>Blue</td>\n      <td>115.410273</td>\n      <td>1</td>\n    </tr>\n  </tbody>\n</table>\n</div>"
     },
     "execution_count": 378,
     "metadata": {},
     "output_type": "execute_result"
    }
   ],
   "source": [
    "data[data[\"Colour\"] == 'Blue']"
   ]
  },
  {
   "cell_type": "markdown",
   "metadata": {},
   "source": [
    "Now let's select the first five rows."
   ]
  },
  {
   "cell_type": "code",
   "execution_count": 379,
   "metadata": {},
   "outputs": [
    {
     "data": {
      "text/plain": "        Date  Time    Size Colour        Cost  Label\n0 2020-10-16  11.0   Small   Blue  109.521068      1\n1 2020-10-16  13.0   Small    Red  112.141170      1\n2 2020-10-16  17.0  Medium  Green  112.004677      1\n3 2020-10-17   9.0   Large  Green   15.112922      0\n4 2020-10-17  11.0   Large  Green  105.663642      1",
      "text/html": "<div>\n<style scoped>\n    .dataframe tbody tr th:only-of-type {\n        vertical-align: middle;\n    }\n\n    .dataframe tbody tr th {\n        vertical-align: top;\n    }\n\n    .dataframe thead th {\n        text-align: right;\n    }\n</style>\n<table border=\"1\" class=\"dataframe\">\n  <thead>\n    <tr style=\"text-align: right;\">\n      <th></th>\n      <th>Date</th>\n      <th>Time</th>\n      <th>Size</th>\n      <th>Colour</th>\n      <th>Cost</th>\n      <th>Label</th>\n    </tr>\n  </thead>\n  <tbody>\n    <tr>\n      <th>0</th>\n      <td>2020-10-16</td>\n      <td>11.0</td>\n      <td>Small</td>\n      <td>Blue</td>\n      <td>109.521068</td>\n      <td>1</td>\n    </tr>\n    <tr>\n      <th>1</th>\n      <td>2020-10-16</td>\n      <td>13.0</td>\n      <td>Small</td>\n      <td>Red</td>\n      <td>112.141170</td>\n      <td>1</td>\n    </tr>\n    <tr>\n      <th>2</th>\n      <td>2020-10-16</td>\n      <td>17.0</td>\n      <td>Medium</td>\n      <td>Green</td>\n      <td>112.004677</td>\n      <td>1</td>\n    </tr>\n    <tr>\n      <th>3</th>\n      <td>2020-10-17</td>\n      <td>9.0</td>\n      <td>Large</td>\n      <td>Green</td>\n      <td>15.112922</td>\n      <td>0</td>\n    </tr>\n    <tr>\n      <th>4</th>\n      <td>2020-10-17</td>\n      <td>11.0</td>\n      <td>Large</td>\n      <td>Green</td>\n      <td>105.663642</td>\n      <td>1</td>\n    </tr>\n  </tbody>\n</table>\n</div>"
     },
     "execution_count": 379,
     "metadata": {},
     "output_type": "execute_result"
    }
   ],
   "source": [
    "data.iloc[:5,:]"
   ]
  },
  {
   "cell_type": "markdown",
   "metadata": {},
   "source": [
    "Pandas is a really powerful tool but in the interest iof time we are not going to explain it further. However you can visit these [tutorials](https://pandas.pydata.org/docs/getting_started/index.html) to learn more about it."
   ]
  },
  {
   "cell_type": "markdown",
   "metadata": {},
   "source": [
    "## Prepare the data"
   ]
  },
  {
   "cell_type": "markdown",
   "metadata": {},
   "source": [
    "Now that we have the data in the dataframe we will process it to transform all its values into numerical ones.\n",
    "There are mainly two types of data that may be necessary to transform: dates and categorical values.\n",
    "We can see what type of data we have in our dataframe:"
   ]
  },
  {
   "cell_type": "code",
   "execution_count": 380,
   "metadata": {},
   "outputs": [
    {
     "data": {
      "text/plain": "Date      datetime64[ns]\nTime             float64\nSize              object\nColour            object\nCost             float64\nLabel              int64\ndtype: object"
     },
     "execution_count": 380,
     "metadata": {},
     "output_type": "execute_result"
    }
   ],
   "source": [
    "data.dtypes"
   ]
  },
  {
   "cell_type": "markdown",
   "metadata": {},
   "source": [
    "(Note that the methods we see in this section replace non-numerical values with floating point numbers _in place_, so if you run them again you will get an error since the column does not contain the expected type anymore.)"
   ]
  },
  {
   "cell_type": "markdown",
   "metadata": {},
   "source": [
    "### Dates"
   ]
  },
  {
   "cell_type": "markdown",
   "metadata": {},
   "source": [
    "A standard way to transform dates is to change them into the time passed since a specific reference time point. This is as simple as:\n",
    "\n",
    "\n",
    "* Likely to normalize dates before using them.\n",
    "    * Likely to either do it based on unix epoch time, or unix time from a specific date/time relevant to the task at hand."
   ]
  },
  {
   "cell_type": "code",
   "execution_count": 381,
   "metadata": {},
   "outputs": [
    {
     "data": {
      "text/plain": "           Date  Time    Size Colour        Cost  Label\n0  6.566400e+15  11.0   Small   Blue  109.521068      1\n1  6.566400e+15  13.0   Small    Red  112.141170      1\n2  6.566400e+15  17.0  Medium  Green  112.004677      1\n3  6.652800e+15   9.0   Large  Green   15.112922      0\n4  6.652800e+15  11.0   Large  Green  105.663642      1",
      "text/html": "<div>\n<style scoped>\n    .dataframe tbody tr th:only-of-type {\n        vertical-align: middle;\n    }\n\n    .dataframe tbody tr th {\n        vertical-align: top;\n    }\n\n    .dataframe thead th {\n        text-align: right;\n    }\n</style>\n<table border=\"1\" class=\"dataframe\">\n  <thead>\n    <tr style=\"text-align: right;\">\n      <th></th>\n      <th>Date</th>\n      <th>Time</th>\n      <th>Size</th>\n      <th>Colour</th>\n      <th>Cost</th>\n      <th>Label</th>\n    </tr>\n  </thead>\n  <tbody>\n    <tr>\n      <th>0</th>\n      <td>6.566400e+15</td>\n      <td>11.0</td>\n      <td>Small</td>\n      <td>Blue</td>\n      <td>109.521068</td>\n      <td>1</td>\n    </tr>\n    <tr>\n      <th>1</th>\n      <td>6.566400e+15</td>\n      <td>13.0</td>\n      <td>Small</td>\n      <td>Red</td>\n      <td>112.141170</td>\n      <td>1</td>\n    </tr>\n    <tr>\n      <th>2</th>\n      <td>6.566400e+15</td>\n      <td>17.0</td>\n      <td>Medium</td>\n      <td>Green</td>\n      <td>112.004677</td>\n      <td>1</td>\n    </tr>\n    <tr>\n      <th>3</th>\n      <td>6.652800e+15</td>\n      <td>9.0</td>\n      <td>Large</td>\n      <td>Green</td>\n      <td>15.112922</td>\n      <td>0</td>\n    </tr>\n    <tr>\n      <th>4</th>\n      <td>6.652800e+15</td>\n      <td>11.0</td>\n      <td>Large</td>\n      <td>Green</td>\n      <td>105.663642</td>\n      <td>1</td>\n    </tr>\n  </tbody>\n</table>\n</div>"
     },
     "execution_count": 381,
     "metadata": {},
     "output_type": "execute_result"
    }
   ],
   "source": [
    "time0 = pd.Timestamp('2020-08-01 00:00:00')\n",
    "data['Date'] = (data['Date'] - time0).values.astype(float)\n",
    "data.head()"
   ]
  },
  {
   "cell_type": "markdown",
   "metadata": {},
   "source": [
    "### Categorical values"
   ]
  },
  {
   "cell_type": "markdown",
   "metadata": {},
   "source": [
    "Categorical values are non numerical values that may have or not an ordinal relationship.\n",
    "\n",
    "Ithey have an ordinal relationship (for example: low, mid, high or small, big),\n",
    "a simple approach is to transform directly to numerical value respecting the order\n",
    "(although this will impose an arbitrary distance between the values).\n"
   ]
  },
  {
   "cell_type": "markdown",
   "metadata": {},
   "source": [
    "Pandas allows use to do this using a dictionary and the method `replace`."
   ]
  },
  {
   "cell_type": "code",
   "execution_count": 382,
   "metadata": {},
   "outputs": [
    {
     "data": {
      "text/plain": "           Date  Time  Size Colour        Cost  Label\n0  6.566400e+15  11.0     0   Blue  109.521068      1\n1  6.566400e+15  13.0     0    Red  112.141170      1\n2  6.566400e+15  17.0     1  Green  112.004677      1\n3  6.652800e+15   9.0     2  Green   15.112922      0\n4  6.652800e+15  11.0     2  Green  105.663642      1",
      "text/html": "<div>\n<style scoped>\n    .dataframe tbody tr th:only-of-type {\n        vertical-align: middle;\n    }\n\n    .dataframe tbody tr th {\n        vertical-align: top;\n    }\n\n    .dataframe thead th {\n        text-align: right;\n    }\n</style>\n<table border=\"1\" class=\"dataframe\">\n  <thead>\n    <tr style=\"text-align: right;\">\n      <th></th>\n      <th>Date</th>\n      <th>Time</th>\n      <th>Size</th>\n      <th>Colour</th>\n      <th>Cost</th>\n      <th>Label</th>\n    </tr>\n  </thead>\n  <tbody>\n    <tr>\n      <th>0</th>\n      <td>6.566400e+15</td>\n      <td>11.0</td>\n      <td>0</td>\n      <td>Blue</td>\n      <td>109.521068</td>\n      <td>1</td>\n    </tr>\n    <tr>\n      <th>1</th>\n      <td>6.566400e+15</td>\n      <td>13.0</td>\n      <td>0</td>\n      <td>Red</td>\n      <td>112.141170</td>\n      <td>1</td>\n    </tr>\n    <tr>\n      <th>2</th>\n      <td>6.566400e+15</td>\n      <td>17.0</td>\n      <td>1</td>\n      <td>Green</td>\n      <td>112.004677</td>\n      <td>1</td>\n    </tr>\n    <tr>\n      <th>3</th>\n      <td>6.652800e+15</td>\n      <td>9.0</td>\n      <td>2</td>\n      <td>Green</td>\n      <td>15.112922</td>\n      <td>0</td>\n    </tr>\n    <tr>\n      <th>4</th>\n      <td>6.652800e+15</td>\n      <td>11.0</td>\n      <td>2</td>\n      <td>Green</td>\n      <td>105.663642</td>\n      <td>1</td>\n    </tr>\n  </tbody>\n</table>\n</div>"
     },
     "execution_count": 382,
     "metadata": {},
     "output_type": "execute_result"
    }
   ],
   "source": [
    "cleanup = {\"Size\": {\"Small\":0, \"Medium\":1, \"Large\":2}}\n",
    "data.replace(cleanup, inplace=True)\n",
    "data.head()"
   ]
  },
  {
   "cell_type": "markdown",
   "metadata": {},
   "source": [
    "This method should not be used with categorical values with no ordinal relationship,\n",
    "for example the colour. Is red bigger than blue?\n",
    "\n",
    "\n",
    "If we treat them as having ordinal relationship some algorithms may be unaffected by this.\n",
    "However, most algorithms will suffer (in terms of accuracy) when using this practice.\n",
    "\n",
    "The 'proper' way to deal with such values is to create a number of variables equal\n",
    "to the the number of different values that the categorical value may take,\n",
    "and then set all to 0 except for one that will set to 1.\n",
    "\n",
    "This is called 'one-hot' encoding. In our case it would be something like:\n",
    "\n",
    "Red -> \\[0, 0, 1\\]\n",
    "\n",
    "Blue -> \\[1, 0, 0\\]\n",
    "\n",
    "Green -> \\[0, 1, 0\\]\n",
    "\n",
    "Fortunately, pandas makes this easy with the method `get_dummies`."
   ]
  },
  {
   "cell_type": "code",
   "execution_count": 383,
   "metadata": {},
   "outputs": [
    {
     "data": {
      "text/plain": "           Date  Time  Size        Cost  Label  Colour_Blue  Colour_Green  \\\n0  6.566400e+15  11.0     0  109.521068      1            1             0   \n1  6.566400e+15  13.0     0  112.141170      1            0             0   \n2  6.566400e+15  17.0     1  112.004677      1            0             1   \n3  6.652800e+15   9.0     2   15.112922      0            0             1   \n4  6.652800e+15  11.0     2  105.663642      1            0             1   \n\n   Colour_Red  \n0           0  \n1           1  \n2           0  \n3           0  \n4           0  ",
      "text/html": "<div>\n<style scoped>\n    .dataframe tbody tr th:only-of-type {\n        vertical-align: middle;\n    }\n\n    .dataframe tbody tr th {\n        vertical-align: top;\n    }\n\n    .dataframe thead th {\n        text-align: right;\n    }\n</style>\n<table border=\"1\" class=\"dataframe\">\n  <thead>\n    <tr style=\"text-align: right;\">\n      <th></th>\n      <th>Date</th>\n      <th>Time</th>\n      <th>Size</th>\n      <th>Cost</th>\n      <th>Label</th>\n      <th>Colour_Blue</th>\n      <th>Colour_Green</th>\n      <th>Colour_Red</th>\n    </tr>\n  </thead>\n  <tbody>\n    <tr>\n      <th>0</th>\n      <td>6.566400e+15</td>\n      <td>11.0</td>\n      <td>0</td>\n      <td>109.521068</td>\n      <td>1</td>\n      <td>1</td>\n      <td>0</td>\n      <td>0</td>\n    </tr>\n    <tr>\n      <th>1</th>\n      <td>6.566400e+15</td>\n      <td>13.0</td>\n      <td>0</td>\n      <td>112.141170</td>\n      <td>1</td>\n      <td>0</td>\n      <td>0</td>\n      <td>1</td>\n    </tr>\n    <tr>\n      <th>2</th>\n      <td>6.566400e+15</td>\n      <td>17.0</td>\n      <td>1</td>\n      <td>112.004677</td>\n      <td>1</td>\n      <td>0</td>\n      <td>1</td>\n      <td>0</td>\n    </tr>\n    <tr>\n      <th>3</th>\n      <td>6.652800e+15</td>\n      <td>9.0</td>\n      <td>2</td>\n      <td>15.112922</td>\n      <td>0</td>\n      <td>0</td>\n      <td>1</td>\n      <td>0</td>\n    </tr>\n    <tr>\n      <th>4</th>\n      <td>6.652800e+15</td>\n      <td>11.0</td>\n      <td>2</td>\n      <td>105.663642</td>\n      <td>1</td>\n      <td>0</td>\n      <td>1</td>\n      <td>0</td>\n    </tr>\n  </tbody>\n</table>\n</div>"
     },
     "execution_count": 383,
     "metadata": {},
     "output_type": "execute_result"
    }
   ],
   "source": [
    "data = pd.get_dummies(data, columns= ['Colour'])\n",
    "data.head()"
   ]
  },
  {
   "cell_type": "markdown",
   "metadata": {},
   "source": [
    "We can now confirm that all columns have been converted to numeric types."
   ]
  },
  {
   "cell_type": "code",
   "execution_count": 384,
   "metadata": {},
   "outputs": [
    {
     "data": {
      "text/plain": "Date            float64\nTime            float64\nSize              int64\nCost            float64\nLabel             int64\nColour_Blue       uint8\nColour_Green      uint8\nColour_Red        uint8\ndtype: object"
     },
     "execution_count": 384,
     "metadata": {},
     "output_type": "execute_result"
    }
   ],
   "source": [
    "data.dtypes"
   ]
  },
  {
   "cell_type": "markdown",
   "metadata": {},
   "source": [
    "Finally we want to transfer our data to two numpy arrays, one containing the variables (features)\n",
    "and another the labels (ground truth)."
   ]
  },
  {
   "cell_type": "code",
   "execution_count": 385,
   "metadata": {},
   "outputs": [
    {
     "name": "stdout",
     "output_type": "stream",
     "text": [
      "(33, 7) (33,)\n"
     ]
    }
   ],
   "source": [
    "import numpy as np\n",
    "x = data.loc[:, data.columns != 'Label'].to_numpy()\n",
    "y = data.loc[:, 'Label'].to_numpy()\n",
    "print(x.shape, y.shape)"
   ]
  },
  {
   "cell_type": "markdown",
   "source": [
    "We do this because Numpy ndarrays can only hold numeric values.\n",
    "\n"
   ],
   "metadata": {
    "collapsed": false,
    "pycharm": {
     "name": "#%% md\n"
    }
   }
  },
  {
   "cell_type": "markdown",
   "metadata": {},
   "source": [
    "## Data Visualization"
   ]
  },
  {
   "cell_type": "markdown",
   "metadata": {},
   "source": [
    "It is good practice to visualize the data to see if there is something obviously wrong. The matplotlib library includes a number of useful visualisation tools to help us. Getting familiar with this library (or a similar one) and its functions is a first step become a data scientist. Among the many functions make sure you become familiar with scatter, plot, and bar!"
   ]
  },
  {
   "cell_type": "markdown",
   "metadata": {},
   "source": [
    "### False predictors"
   ]
  },
  {
   "cell_type": "markdown",
   "metadata": {},
   "source": [
    "In some ocassions we may have a variable that is a false predictor, meaning that it's been introduced in the data by mistake and contains information about the label. Let's imagine that we have a dataset of clients of a bank, and we want to predict if a client will buy an add-on insurance. One of the variables could be how much the client pays to the bank for its services. If this price includes the cost of the insurance, this will result in a variable that may have a strong prediction power but won't work during the deployment because we will detect only the clients that already have an insurance."
   ]
  },
  {
   "cell_type": "markdown",
   "metadata": {},
   "source": [
    "In our data there is one false predictor, could you point which one looking at the plots?"
   ]
  },
  {
   "cell_type": "code",
   "execution_count": 386,
   "metadata": {},
   "outputs": [
    {
     "data": {
      "text/plain": "<Figure size 576x432 with 7 Axes>",
      "image/png": "[encoded data removed]"
     },
     "metadata": {
      "needs_background": "light"
     },
     "output_type": "display_data"
    }
   ],
   "source": [
    "import matplotlib.pyplot as plt\n",
    "\n",
    "plt.figure(figsize=(8,6))\n",
    "for i in range(x.shape[1]):\n",
    "    plt.subplot(3, 3, i+1)\n",
    "    plt.scatter(y,x[:,i])\n",
    "    plt.xticks([0, 1])\n",
    "    plt.title(data.columns[i])"
   ]
  },
  {
   "cell_type": "markdown",
   "metadata": {},
   "source": [
    "## Cross-validation\n",
    "Learning the parameters of a prediction function and testing it on the same data is\n",
    "a methodological mistake: a model may memorise the training data perfectly and have a\n",
    "perfect score but would fail to predict anything useful on yet-unseen data.\n",
    "\n",
    "This situation is called overfitting.\n",
    "To avoid it, when performing a (supervised) machine learning task,\n",
    "it is common practice to hold out part of the available data as a test set,\n",
    "which we will store in the variables `X_test` and `y_test`.\n"
   ]
  },
  {
   "cell_type": "markdown",
   "metadata": {},
   "source": [
    "Conceptually, we need to simulate the future situation,\n",
    "where we have trained our system with some data and,\n",
    "then, we apply it to some unseen data.\n",
    "\n",
    "However, to get better estimates of the accuracy of our model on new data,\n",
    "it is good practice to repeat the procedure after rotating which part of the data\n",
    "are used for train and which for testing.\n",
    "\n",
    "One such method is called *cross-validation* and helps reduce the variability in\n",
    "estimating the accuracy on new data."
   ]
  },
  {
   "cell_type": "markdown",
   "source": [
    "* The mentality I need to have\n",
    "    * We have this dataset and a machine learning algorithm for the future.\n",
    "        * How can I evaluate the actual performance of my algorithm on any future data?\n",
    "* K-fold cross validation\n",
    "    * Split entire training data (everything but final validation) into N segments. (5 segments?)\n",
    "        * Then, for each segment\n",
    "            * Train the model using the other segments, and then use that segment as the test data that time.\n",
    "        * Once we have N trained models\n",
    "            * Could just use the single best model from that population\n",
    "                * Not a good approach, that one model might not\n",
    "            * Could try to turn the models into something that returns the majority opinion of those models\n",
    "                * But might need to test that aggregate model again\n",
    "            * Make a new model that is just the average of all the produced models (weighted by performance)\n",
    "                * But there's no real way to assess the performance of that model,\n",
    "                * generally means we're out of data.\n",
    "* Might be a bit more tricky for a neural network - those generally take a long time to train."
   ],
   "metadata": {
    "collapsed": false,
    "pycharm": {
     "name": "#%% md\n"
    }
   }
  },
  {
   "cell_type": "markdown",
   "metadata": {},
   "source": [
    "Scikit-learn is a library for machine learning (more on this in the next lab).\n",
    "It has a collection of classes which can be used to generate lists of train/test\n",
    "indices for popular cross-validation strategies.\n",
    "\n",
    "They expose a `split` method which accepts the input dataset to be split and\n",
    "yields the train/test set indices for each iteration of the chosen cross-validation strategy."
   ]
  },
  {
   "cell_type": "code",
   "execution_count": 387,
   "metadata": {},
   "outputs": [
    {
     "name": "stdout",
     "output_type": "stream",
     "text": [
      "Train: [ 7  8  9 10 11 12 13 14 15 16 17 18 19 20 21 22 23 24 25 26 27 28 29 30\n",
      " 31 32] | test: [0 1 2 3 4 5 6]\n",
      "Train: [ 0  1  2  3  4  5  6 14 15 16 17 18 19 20 21 22 23 24 25 26 27 28 29 30\n",
      " 31 32] | test: [ 7  8  9 10 11 12 13]\n",
      "Train: [ 0  1  2  3  4  5  6  7  8  9 10 11 12 13 21 22 23 24 25 26 27 28 29 30\n",
      " 31 32] | test: [14 15 16 17 18 19 20]\n",
      "Train: [ 0  1  2  3  4  5  6  7  8  9 10 11 12 13 14 15 16 17 18 19 20 27 28 29\n",
      " 30 31 32] | test: [21 22 23 24 25 26]\n",
      "Train: [ 0  1  2  3  4  5  6  7  8  9 10 11 12 13 14 15 16 17 18 19 20 21 22 23\n",
      " 24 25 26] | test: [27 28 29 30 31 32]\n"
     ]
    }
   ],
   "source": [
    "from sklearn.model_selection import KFold, cross_val_score\n",
    "\n",
    "k_fold = KFold(n_splits=5)\n",
    "for train_indices, test_indices in k_fold.split(x):\n",
    "    print('Train: %s | test: %s' % (train_indices, test_indices))"
   ]
  },
  {
   "cell_type": "markdown",
   "metadata": {},
   "source": [
    "Graphically, we can represent the cross validation loop as follows\n",
    "(where 'O' represents a training sample and '•' a test one):"
   ]
  },
  {
   "cell_type": "code",
   "execution_count": 388,
   "metadata": {},
   "outputs": [
    {
     "name": "stdout",
     "output_type": "stream",
     "text": [
      "•••••••OOOOOOOOOOOOOOOOOOOOOOOOOO\n",
      "OOOOOOO•••••••OOOOOOOOOOOOOOOOOOO\n",
      "OOOOOOOOOOOOOO•••••••OOOOOOOOOOOO\n",
      "OOOOOOOOOOOOOOOOOOOOO••••••OOOOOO\n",
      "OOOOOOOOOOOOOOOOOOOOOOOOOOO••••••\n"
     ]
    }
   ],
   "source": [
    "for train_indices, test_indices in k_fold.split(x):\n",
    "    for i in range(len(x)):\n",
    "        print('O' if i in train_indices else '•', end='')\n",
    "    print('')\n",
    "\n"
   ]
  },
  {
   "cell_type": "markdown",
   "metadata": {},
   "source": [
    "Cross-validation is the cornerstone of supervised machine learning design.\n",
    "All the data-dependent manipulations (not only classification, but also pre-processing)\n",
    "must happen inside Cross-Validation loops when analysing the performance of a system."
   ]
  },
  {
   "cell_type": "markdown",
   "metadata": {},
   "source": [
    "Multiple cross-validation loops can be nested when performing hyper-parameter fitting.\n",
    "We will explore this in the next lab. See this [link](https://stats.stackexchange.com/q/292179)\n",
    "for a graphical representation of nested cross-validation."
   ]
  },
  {
   "cell_type": "markdown",
   "metadata": {},
   "source": [
    "The `Kfold` class in sklearn, has another parameter, shuffle.\n",
    "\n",
    "* shuffles data before splitting it\n",
    "    * Samples within the splits not shuffled.\n",
    "\n",
    "Read the documentation about it and explore what changes when its value is True."
   ]
  },
  {
   "cell_type": "markdown",
   "metadata": {},
   "source": [
    "## Pre-processing"
   ]
  },
  {
   "cell_type": "markdown",
   "metadata": {},
   "source": [
    "### Missing data"
   ]
  },
  {
   "cell_type": "markdown",
   "metadata": {},
   "source": [
    "It is common to have missing values in some of the variables.\n",
    "We can see this counting the number of NaN (Not a Number) in our dataset:"
   ]
  },
  {
   "cell_type": "code",
   "execution_count": 389,
   "metadata": {},
   "outputs": [
    {
     "data": {
      "text/plain": "array([0, 4, 0, 0, 0, 0, 0])"
     },
     "execution_count": 389,
     "metadata": {},
     "output_type": "execute_result"
    }
   ],
   "source": [
    "np.sum(np.isnan(x), 0)"
   ]
  },
  {
   "cell_type": "markdown",
   "metadata": {},
   "source": [
    "Here we can see that the second variable in our dataset has some values that are missing."
   ]
  },
  {
   "cell_type": "markdown",
   "metadata": {},
   "source": [
    "#### Default value"
   ]
  },
  {
   "cell_type": "markdown",
   "metadata": {},
   "source": [
    "The fastest and easiest way to deal with missing data, is to assign a default value (ex. 0).\n",
    "This is possible if we know something about the variable and which may be a good default value,\n",
    "but sometimes we don't."
   ]
  },
  {
   "cell_type": "markdown",
   "metadata": {},
   "source": [
    "#### Data-driven value"
   ]
  },
  {
   "cell_type": "markdown",
   "metadata": {},
   "source": [
    "A better option, is to use a value that is derived from the data, such as the mean,\n",
    "median or other statistical value.\n",
    "\n",
    "However, as mentioned before, this should happen **inside the cross-validation**\n",
    "(i.e. any value used for imputation must be computed using **only** the training data).\n",
    "\n",
    "* Why only use the training data?\n",
    "    * Because, IRL, we can't predict the future outputs.\n",
    "    * The test data is the future outputs (at least whilst testing) - not allowed to cheat."
   ]
  },
  {
   "cell_type": "markdown",
   "metadata": {},
   "source": [
    "Here we calculate the mean of the second variable in our dataset for different folds.\n",
    "\n",
    "We use the function `nanmean` from numpy to calculate the mean of an array containing NaN values."
   ]
  },
  {
   "cell_type": "code",
   "execution_count": 390,
   "metadata": {},
   "outputs": [
    {
     "name": "stdout",
     "output_type": "stream",
     "text": [
      "12.272727272727273\n",
      "12.130434782608695\n",
      "12.304347826086957\n",
      "12.416666666666666\n",
      "12.416666666666666\n"
     ]
    }
   ],
   "source": [
    "k_fold = KFold(n_splits=5)\n",
    "for train_indices, test_indices in k_fold.split(x):\n",
    "    print(np.nanmean(x[train_indices, 1]))"
   ]
  },
  {
   "cell_type": "markdown",
   "metadata": {},
   "source": [
    "As you can see the value of that mean differs for each fold.\n",
    "This is why is important to do it inside the fold validation loop."
   ]
  },
  {
   "cell_type": "markdown",
   "metadata": {},
   "source": [
    "### Data transformation"
   ]
  },
  {
   "cell_type": "markdown",
   "metadata": {},
   "source": [
    "Many algorithms work better when the data are inside a specific range,\n",
    "or when all the data have similar ranges.\n",
    "\n",
    "This is not the case for all the algorithms\n",
    "(some work equally well with un-normalised or normalised data)."
   ]
  },
  {
   "cell_type": "markdown",
   "metadata": {},
   "source": [
    "#### Data-clipping"
   ]
  },
  {
   "cell_type": "markdown",
   "metadata": {},
   "source": [
    "One option is to just set predefined maximum and minimum values.\n",
    "\n",
    "For this, we can use the `clip` method from numpy."
   ]
  },
  {
   "cell_type": "markdown",
   "metadata": {},
   "source": [
    "#### Scaling and Normalization"
   ]
  },
  {
   "cell_type": "markdown",
   "metadata": {},
   "source": [
    "In the same way, as with the missing data,\n",
    "a better practice is to perform this procedure in a data-driven manner.\n",
    "\n",
    "For this, sklearn provides several options in its 'preprocessing' package.\n",
    "\n",
    "As before, this normalisation step should be included **inside** the cross validation loop as well."
   ]
  },
  {
   "cell_type": "markdown",
   "source": [
    "### Any preparation for the data I'm using must take place in the cross-validation loop."
   ],
   "metadata": {
    "collapsed": false,
    "pycharm": {
     "name": "#%% md\n"
    }
   }
  },
  {
   "cell_type": "code",
   "execution_count": 391,
   "metadata": {},
   "outputs": [],
   "source": [
    "from sklearn.preprocessing import StandardScaler\n",
    "k_fold = KFold(n_splits=5)\n",
    "x_or = x.copy() # We make a copy of our data to avoid overwriting\n",
    "for train_indices, test_indices in k_fold.split(x):\n",
    "    mean = np.nanmean(x_or[train_indices, 1])\n",
    "    x[np.isnan(x_or[:,1]), 1] = mean # We substitute the missing values for the mean\n",
    "    ss = StandardScaler()\n",
    "    ss.fit(x[train_indices, :])\n",
    "    x_train = ss.transform(x[train_indices, :])\n",
    "    x_test = ss.transform(x[test_indices, :])\n"
   ]
  },
  {
   "cell_type": "code",
   "execution_count": 392,
   "outputs": [
    {
     "name": "stdout",
     "output_type": "stream",
     "text": [
      "[[6.56640000e+15 1.10000000e+01 0.00000000e+00 1.09521068e+02\n",
      "  1.00000000e+00 0.00000000e+00 0.00000000e+00]\n",
      " [6.56640000e+15 1.30000000e+01 0.00000000e+00 1.12141170e+02\n",
      "  0.00000000e+00 0.00000000e+00 1.00000000e+00]\n",
      " [6.56640000e+15 1.70000000e+01 1.00000000e+00 1.12004677e+02\n",
      "  0.00000000e+00 1.00000000e+00 0.00000000e+00]\n",
      " [6.65280000e+15 9.00000000e+00 2.00000000e+00 1.51129219e+01\n",
      "  0.00000000e+00 1.00000000e+00 0.00000000e+00]\n",
      " [6.65280000e+15 1.10000000e+01 2.00000000e+00 1.05663642e+02\n",
      "  0.00000000e+00 1.00000000e+00 0.00000000e+00]\n",
      " [6.65280000e+15 1.70000000e+01 1.00000000e+00 5.15809691e+00\n",
      "  0.00000000e+00 1.00000000e+00 0.00000000e+00]\n",
      " [6.73920000e+15 9.00000000e+00 0.00000000e+00 1.07947930e+02\n",
      "  1.00000000e+00 0.00000000e+00 0.00000000e+00]\n",
      " [6.73920000e+15 1.24166667e+01 2.00000000e+00 8.32083783e+00\n",
      "  0.00000000e+00 0.00000000e+00 1.00000000e+00]\n",
      " [6.73920000e+15 1.30000000e+01 2.00000000e+00 1.13424684e+02\n",
      "  0.00000000e+00 0.00000000e+00 1.00000000e+00]\n",
      " [6.73920000e+15 1.50000000e+01 0.00000000e+00 1.03223563e+02\n",
      "  1.00000000e+00 0.00000000e+00 0.00000000e+00]\n",
      " [6.73920000e+15 1.70000000e+01 2.00000000e+00 1.15190210e+02\n",
      "  0.00000000e+00 0.00000000e+00 1.00000000e+00]\n",
      " [6.82560000e+15 9.00000000e+00 1.00000000e+00 1.05216665e+02\n",
      "  1.00000000e+00 0.00000000e+00 0.00000000e+00]\n",
      " [6.82560000e+15 1.10000000e+01 0.00000000e+00 1.03433604e+02\n",
      "  0.00000000e+00 0.00000000e+00 1.00000000e+00]\n",
      " [6.82560000e+15 1.30000000e+01 2.00000000e+00 1.55992482e+01\n",
      "  1.00000000e+00 0.00000000e+00 0.00000000e+00]\n",
      " [6.82560000e+15 1.50000000e+01 0.00000000e+00 1.29042051e+01\n",
      "  0.00000000e+00 0.00000000e+00 1.00000000e+00]\n",
      " [6.91200000e+15 9.00000000e+00 0.00000000e+00 1.90423340e+01\n",
      "  0.00000000e+00 0.00000000e+00 1.00000000e+00]\n",
      " [6.91200000e+15 1.24166667e+01 2.00000000e+00 1.13658567e+02\n",
      "  1.00000000e+00 0.00000000e+00 0.00000000e+00]\n",
      " [6.91200000e+15 1.70000000e+01 1.00000000e+00 1.15991724e+02\n",
      "  0.00000000e+00 0.00000000e+00 1.00000000e+00]\n",
      " [7.17120000e+15 1.10000000e+01 1.00000000e+00 3.64378725e+00\n",
      "  1.00000000e+00 0.00000000e+00 0.00000000e+00]\n",
      " [7.25760000e+15 1.10000000e+01 1.00000000e+00 1.18108710e+02\n",
      "  0.00000000e+00 0.00000000e+00 1.00000000e+00]\n",
      " [7.34400000e+15 1.10000000e+01 2.00000000e+00 1.49736108e+01\n",
      "  0.00000000e+00 1.00000000e+00 0.00000000e+00]\n",
      " [7.34400000e+15 1.24166667e+01 2.00000000e+00 1.06993878e+01\n",
      "  1.00000000e+00 0.00000000e+00 0.00000000e+00]\n",
      " [7.34400000e+15 1.50000000e+01 2.00000000e+00 1.06224366e+02\n",
      "  0.00000000e+00 0.00000000e+00 1.00000000e+00]\n",
      " [7.43040000e+15 1.10000000e+01 2.00000000e+00 1.14638621e+02\n",
      "  0.00000000e+00 0.00000000e+00 1.00000000e+00]\n",
      " [7.43040000e+15 1.30000000e+01 0.00000000e+00 1.22823534e+00\n",
      "  1.00000000e+00 0.00000000e+00 0.00000000e+00]\n",
      " [7.51680000e+15 1.10000000e+01 2.00000000e+00 5.79145035e+00\n",
      "  0.00000000e+00 0.00000000e+00 1.00000000e+00]\n",
      " [7.60320000e+15 9.00000000e+00 0.00000000e+00 8.60680643e+00\n",
      "  0.00000000e+00 0.00000000e+00 1.00000000e+00]\n",
      " [7.60320000e+15 1.30000000e+01 2.00000000e+00 1.24143772e+01\n",
      "  1.00000000e+00 0.00000000e+00 0.00000000e+00]\n",
      " [7.77600000e+15 1.24166667e+01 2.00000000e+00 1.15663402e+02\n",
      "  0.00000000e+00 0.00000000e+00 1.00000000e+00]\n",
      " [7.77600000e+15 1.30000000e+01 0.00000000e+00 1.15410273e+02\n",
      "  1.00000000e+00 0.00000000e+00 0.00000000e+00]\n",
      " [7.77600000e+15 1.10000000e+01 0.00000000e+00 1.05401517e+02\n",
      "  0.00000000e+00 0.00000000e+00 1.00000000e+00]\n",
      " [7.86240000e+15 1.30000000e+01 1.00000000e+00 1.37766948e-01\n",
      "  0.00000000e+00 1.00000000e+00 0.00000000e+00]\n",
      " [7.94880000e+15 9.00000000e+00 2.00000000e+00 1.12661384e+02\n",
      "  0.00000000e+00 1.00000000e+00 0.00000000e+00]]\n"
     ]
    }
   ],
   "source": [
    "print(x)\n"
   ],
   "metadata": {
    "collapsed": false,
    "pycharm": {
     "name": "#%%\n"
    }
   }
  },
  {
   "cell_type": "markdown",
   "metadata": {},
   "source": [
    "In this example we see something that is common in many methods in the sklearn package,\n",
    "the division between `fit` and `transform`.\n",
    "\n",
    "These allow to the creation of pipelines which help streamline the modeling of different methods."
   ]
  },
  {
   "cell_type": "markdown",
   "metadata": {},
   "source": [
    "## Exercise"
   ]
  },
  {
   "cell_type": "markdown",
   "metadata": {},
   "source": [
    "Using what you have learned in this notebook, prepare the data from the file 'exercise1.csv'.\n",
    "\n",
    "Note that in this case you need to manipulate the 'Label' column as well.\n"
   ]
  },
  {
   "cell_type": "code",
   "execution_count": 393,
   "outputs": [
    {
     "data": {
      "text/plain": "               Date_Hour  ID_e         E         N Sex Cell Label\n0    2018-06-05 12:27:00  e1f1  5.583066  1.175189   f   e1     o\n1    2018-06-21 10:20:00  e1f1  5.325020  0.962680   f   e1     o\n2    2018-06-21 14:25:00  e1f1  3.412439  0.947501   f   e1     o\n3    2018-06-21 12:30:00  e1f1  3.761561  2.010046   f   e1     o\n4    2018-06-15 12:06:00  e1f1       NaN  1.144831   f   e1     o\n...                  ...   ...       ...       ...  ..  ...   ...\n7184 2018-05-25 15:40:00  e9m9  1.103858       NaN   m   e9     y\n7185 2018-05-25 17:21:00  e9m9  3.699470       NaN   m   e9     y\n7186 2018-05-24 16:26:00  e9m9  1.766447       NaN   m   e9     y\n7187 2018-05-23 12:30:00  e9m9  0.497900  1.169597   m   e9     y\n7188 2018-05-23 13:44:00  e9m9  3.990179  1.146944   m   e9     y\n\n[7189 rows x 7 columns]",
      "text/html": "<div>\n<style scoped>\n    .dataframe tbody tr th:only-of-type {\n        vertical-align: middle;\n    }\n\n    .dataframe tbody tr th {\n        vertical-align: top;\n    }\n\n    .dataframe thead th {\n        text-align: right;\n    }\n</style>\n<table border=\"1\" class=\"dataframe\">\n  <thead>\n    <tr style=\"text-align: right;\">\n      <th></th>\n      <th>Date_Hour</th>\n      <th>ID_e</th>\n      <th>E</th>\n      <th>N</th>\n      <th>Sex</th>\n      <th>Cell</th>\n      <th>Label</th>\n    </tr>\n  </thead>\n  <tbody>\n    <tr>\n      <th>0</th>\n      <td>2018-06-05 12:27:00</td>\n      <td>e1f1</td>\n      <td>5.583066</td>\n      <td>1.175189</td>\n      <td>f</td>\n      <td>e1</td>\n      <td>o</td>\n    </tr>\n    <tr>\n      <th>1</th>\n      <td>2018-06-21 10:20:00</td>\n      <td>e1f1</td>\n      <td>5.325020</td>\n      <td>0.962680</td>\n      <td>f</td>\n      <td>e1</td>\n      <td>o</td>\n    </tr>\n    <tr>\n      <th>2</th>\n      <td>2018-06-21 14:25:00</td>\n      <td>e1f1</td>\n      <td>3.412439</td>\n      <td>0.947501</td>\n      <td>f</td>\n      <td>e1</td>\n      <td>o</td>\n    </tr>\n    <tr>\n      <th>3</th>\n      <td>2018-06-21 12:30:00</td>\n      <td>e1f1</td>\n      <td>3.761561</td>\n      <td>2.010046</td>\n      <td>f</td>\n      <td>e1</td>\n      <td>o</td>\n    </tr>\n    <tr>\n      <th>4</th>\n      <td>2018-06-15 12:06:00</td>\n      <td>e1f1</td>\n      <td>NaN</td>\n      <td>1.144831</td>\n      <td>f</td>\n      <td>e1</td>\n      <td>o</td>\n    </tr>\n    <tr>\n      <th>...</th>\n      <td>...</td>\n      <td>...</td>\n      <td>...</td>\n      <td>...</td>\n      <td>...</td>\n      <td>...</td>\n      <td>...</td>\n    </tr>\n    <tr>\n      <th>7184</th>\n      <td>2018-05-25 15:40:00</td>\n      <td>e9m9</td>\n      <td>1.103858</td>\n      <td>NaN</td>\n      <td>m</td>\n      <td>e9</td>\n      <td>y</td>\n    </tr>\n    <tr>\n      <th>7185</th>\n      <td>2018-05-25 17:21:00</td>\n      <td>e9m9</td>\n      <td>3.699470</td>\n      <td>NaN</td>\n      <td>m</td>\n      <td>e9</td>\n      <td>y</td>\n    </tr>\n    <tr>\n      <th>7186</th>\n      <td>2018-05-24 16:26:00</td>\n      <td>e9m9</td>\n      <td>1.766447</td>\n      <td>NaN</td>\n      <td>m</td>\n      <td>e9</td>\n      <td>y</td>\n    </tr>\n    <tr>\n      <th>7187</th>\n      <td>2018-05-23 12:30:00</td>\n      <td>e9m9</td>\n      <td>0.497900</td>\n      <td>1.169597</td>\n      <td>m</td>\n      <td>e9</td>\n      <td>y</td>\n    </tr>\n    <tr>\n      <th>7188</th>\n      <td>2018-05-23 13:44:00</td>\n      <td>e9m9</td>\n      <td>3.990179</td>\n      <td>1.146944</td>\n      <td>m</td>\n      <td>e9</td>\n      <td>y</td>\n    </tr>\n  </tbody>\n</table>\n<p>7189 rows × 7 columns</p>\n</div>"
     },
     "execution_count": 393,
     "metadata": {},
     "output_type": "execute_result"
    }
   ],
   "source": [
    "data = pd.read_csv('exercise1.csv', parse_dates=[['Date', 'Hour']], dayfirst=True)\n",
    "data\n"
   ],
   "metadata": {
    "collapsed": false,
    "pycharm": {
     "name": "#%%\n"
    }
   }
  },
  {
   "cell_type": "code",
   "execution_count": 394,
   "outputs": [],
   "source": [
    "def combine(fold, cols, sep=\"_\", new_name = None):\n",
    "    if new_name == None:\n",
    "        new_name = sep.join(cols)\n",
    "    merged = fold[cols].apply(\n",
    "        lambda row: sep.join(row.values.astype(str)), axis=1\n",
    "    )\n",
    "    for c in cols:\n",
    "        fold.drop(c, axis=1, inplace=True)\n",
    "    fold[new_name] = merged\n",
    "    return fold\n"
   ],
   "metadata": {
    "collapsed": false,
    "pycharm": {
     "name": "#%%\n"
    }
   }
  },
  {
   "cell_type": "code",
   "execution_count": 395,
   "outputs": [],
   "source": [
    "def normalize_datetimes_in_fold(fold, datetime_head = \"Date\", use_min_value=True):\n",
    "    \"\"\"\n",
    "    Normalizes the datetimes within the fold\n",
    "    (relative to the earliest item in the fold).\n",
    "    Manipulates the fold itself.\n",
    "    :param fold:\n",
    "    :param date_head:\n",
    "    :param use_min_value: if false, uses unix epoch instead to normalize\n",
    "    :return:\n",
    "    \"\"\"\n",
    "    if use_min_value:\n",
    "        time0 = fold[datetime_head].min()\n",
    "    else:\n",
    "        time0 = pd.Timestamp(0)\n",
    "    fold[datetime_head] = (fold[datetime_head] - time0).values.astype(float)\n",
    "    return fold\n",
    "\n"
   ],
   "metadata": {
    "collapsed": false,
    "pycharm": {
     "name": "#%%\n"
    }
   }
  },
  {
   "cell_type": "code",
   "execution_count": 396,
   "outputs": [
    {
     "name": "stdout",
     "output_type": "stream",
     "text": [
      "            Date_Hour  ID_e         E         N Cell Label  Sex_f  Sex_m\n",
      "0 2018-06-05 12:27:00  e1f1  5.583066  1.175189   e1     o      1      0\n",
      "1 2018-06-21 10:20:00  e1f1  5.325020  0.962680   e1     o      1      0\n",
      "2 2018-06-21 14:25:00  e1f1  3.412439  0.947501   e1     o      1      0\n",
      "3 2018-06-21 12:30:00  e1f1  3.761561  2.010046   e1     o      1      0\n",
      "4 2018-06-15 12:06:00  e1f1       NaN  1.144831   e1     o      1      0\n",
      "            Date_Hour  ID_e         E         N Cell  Sex_f  Sex_m  Label_o  \\\n",
      "0 2018-06-05 12:27:00  e1f1  5.583066  1.175189   e1      1      0        1   \n",
      "1 2018-06-21 10:20:00  e1f1  5.325020  0.962680   e1      1      0        1   \n",
      "2 2018-06-21 14:25:00  e1f1  3.412439  0.947501   e1      1      0        1   \n",
      "3 2018-06-21 12:30:00  e1f1  3.761561  2.010046   e1      1      0        1   \n",
      "4 2018-06-15 12:06:00  e1f1       NaN  1.144831   e1      1      0        1   \n",
      "\n",
      "   Label_w  Label_y  \n",
      "0        0        0  \n",
      "1        0        0  \n",
      "2        0        0  \n",
      "3        0        0  \n",
      "4        0        0  \n",
      "            Date_Hour  ID_e         E         N  Sex_f  Sex_m  Label_o  \\\n",
      "0 2018-06-05 12:27:00  e1f1  5.583066  1.175189      1      0        1   \n",
      "1 2018-06-21 10:20:00  e1f1  5.325020  0.962680      1      0        1   \n",
      "2 2018-06-21 14:25:00  e1f1  3.412439  0.947501      1      0        1   \n",
      "3 2018-06-21 12:30:00  e1f1  3.761561  2.010046      1      0        1   \n",
      "4 2018-06-15 12:06:00  e1f1       NaN  1.144831      1      0        1   \n",
      "\n",
      "   Label_w  Label_y  Cell_e1  Cell_e10  Cell_e2  Cell_e3  Cell_e4  Cell_e5  \\\n",
      "0        0        0        1         0        0        0        0        0   \n",
      "1        0        0        1         0        0        0        0        0   \n",
      "2        0        0        1         0        0        0        0        0   \n",
      "3        0        0        1         0        0        0        0        0   \n",
      "4        0        0        1         0        0        0        0        0   \n",
      "\n",
      "   Cell_e6  Cell_e7  Cell_e8  Cell_e9  \n",
      "0        0        0        0        0  \n",
      "1        0        0        0        0  \n",
      "2        0        0        0        0  \n",
      "3        0        0        0        0  \n",
      "4        0        0        0        0  \n",
      "            Date_Hour         E         N  Sex_f  Sex_m  Label_o  Label_w  \\\n",
      "0 2018-06-05 12:27:00  5.583066  1.175189      1      0        1        0   \n",
      "1 2018-06-21 10:20:00  5.325020  0.962680      1      0        1        0   \n",
      "2 2018-06-21 14:25:00  3.412439  0.947501      1      0        1        0   \n",
      "3 2018-06-21 12:30:00  3.761561  2.010046      1      0        1        0   \n",
      "4 2018-06-15 12:06:00       NaN  1.144831      1      0        1        0   \n",
      "\n",
      "   Label_y  Cell_e1  Cell_e10  ...  ID_e_e9f9  ID_e_e9m1  ID_e_e9m2  \\\n",
      "0        0        1         0  ...          0          0          0   \n",
      "1        0        1         0  ...          0          0          0   \n",
      "2        0        1         0  ...          0          0          0   \n",
      "3        0        1         0  ...          0          0          0   \n",
      "4        0        1         0  ...          0          0          0   \n",
      "\n",
      "   ID_e_e9m3  ID_e_e9m4  ID_e_e9m5  ID_e_e9m6  ID_e_e9m7  ID_e_e9m8  ID_e_e9m9  \n",
      "0          0          0          0          0          0          0          0  \n",
      "1          0          0          0          0          0          0          0  \n",
      "2          0          0          0          0          0          0          0  \n",
      "3          0          0          0          0          0          0          0  \n",
      "4          0          0          0          0          0          0          0  \n",
      "\n",
      "[5 rows x 198 columns]\n"
     ]
    }
   ],
   "source": [
    "def onehot(fold, category):\n",
    "    return pd.get_dummies(fold, columns= [category])\n",
    "\n",
    "data = onehot(data, \"Sex\")\n",
    "print(data.head())\n",
    "\n",
    "data = onehot(data, \"Label\")\n",
    "print(data.head())\n",
    "\n",
    "data = onehot(data, \"Cell\")\n",
    "print(data.head())\n",
    "\n",
    "data = onehot(data, \"ID_e\")\n",
    "print(data.head())"
   ],
   "metadata": {
    "collapsed": false,
    "pycharm": {
     "name": "#%%\n"
    }
   }
  },
  {
   "cell_type": "code",
   "execution_count": 397,
   "outputs": [],
   "source": [
    "def fill_in_the_nans(train_fold, test_fold, original_ds, full_ds):\n",
    "    mean = np.nanmean(train_fold)\n",
    "    original_ds[np.isnan(full_ds[\"E\"]), 1] = mean # We substitute the missing values for the mean\n",
    "    ss = StandardScaler()\n",
    "    train_fold = ss.fit_transform(train_fold)\n",
    "    test_fold = ss.transform(test_fold)\n",
    "    return train_fold, test_fold"
   ],
   "metadata": {
    "collapsed": false,
    "pycharm": {
     "name": "#%%\n"
    }
   }
  },
  {
   "cell_type": "code",
   "execution_count": 398,
   "outputs": [
    {
     "name": "stderr",
     "output_type": "stream",
     "text": [
      "C:\\Users\\rl18730\\AppData\\Local\\Temp/ipykernel_12896/3464926426.py:15: SettingWithCopyWarning: \n",
      "A value is trying to be set on a copy of a slice from a DataFrame.\n",
      "Try using .loc[row_indexer,col_indexer] = value instead\n",
      "\n",
      "See the caveats in the documentation: https://pandas.pydata.org/pandas-docs/stable/user_guide/indexing.html#returning-a-view-versus-a-copy\n",
      "  fold[datetime_head] = (fold[datetime_head] - time0).values.astype(float)\n"
     ]
    }
   ],
   "source": [
    "\n",
    "k_fold = KFold(n_splits=5)\n",
    "d_folded = data.copy()\n",
    "for train_indices, test_indices in k_fold.split(data):\n",
    "\n",
    "    # We obtain test_indices fold\n",
    "    this_fold = d_folded.iloc[train_indices]\n",
    "    #this_fold.head()\n",
    "\n",
    "    # normalize the datetimes in the fold\n",
    "    normalize_datetimes_in_fold(this_fold, datetime_head=\"Date_Hour\")\n",
    "    #print(this_fold.head())\n",
    "\n",
    "    # filling in the blanks for E and N\n",
    "    #this_fold['E'].fillna(value=d_folded['E'].mean(), inplace=True)\n",
    "    #this_fold['N'].fillna(value=d_folded['N'].mean(), inplace=True)\n",
    "\n",
    "    #print(this_fold.head())\n",
    "\n",
    "\n",
    "\n"
   ],
   "metadata": {
    "collapsed": false,
    "pycharm": {
     "name": "#%%\n"
    }
   }
  },
  {
   "cell_type": "markdown",
   "metadata": {},
   "source": [
    "### Extra 1"
   ]
  },
  {
   "cell_type": "markdown",
   "metadata": {},
   "source": [
    "The columns 'Date' and 'Hour' could be merged, into a single value\n",
    "(even directly upon reading the CSV file).\n",
    "\n",
    "Explore how to do it either in Pandas or Numpy."
   ]
  },
  {
   "cell_type": "markdown",
   "metadata": {},
   "source": [
    "### Extra 2"
   ]
  },
  {
   "cell_type": "markdown",
   "metadata": {},
   "source": [
    "This file indicates the position (East, North) where some lizards were seen.\n",
    "Each lizard has an ID (ID_e) and has been spotted several times.\n",
    "\n",
    "To infer the position for those samples where there is no available data,\n",
    "instead of using the mean (or any other imputation method) based on the whole training set,\n",
    "try to calculate the mean (or other statistical value) for that specific lizard based on the training data.\n",
    "\n",
    "Note that, depending on how you divide the data,\n",
    "there could be unknown data in the test set for a lizard that was not included in the training data.\n",
    "\n",
    "Think of a possible way to deal with this issue."
   ]
  },
  {
   "cell_type": "code",
   "execution_count": 398,
   "metadata": {},
   "outputs": [],
   "source": []
  }
 ],
 "metadata": {
  "kernelspec": {
   "display_name": "Python 3 (ipykernel)",
   "language": "python",
   "name": "python3"
  },
  "language_info": {
   "codemirror_mode": {
    "name": "ipython",
    "version": 3
   },
   "file_extension": ".py",
   "mimetype": "text/x-python",
   "name": "python",
   "nbconvert_exporter": "python",
   "pygments_lexer": "ipython3",
   "version": "3.9.6"
  }
 },
 "nbformat": 4,
 "nbformat_minor": 4
}