{
 "cells": [
  {
   "cell_type": "markdown",
   "metadata": {},
   "source": [
    "# Prediction with sklearn"
   ]
  },
  {
   "cell_type": "markdown",
   "metadata": {},
   "source": [
    "By: Jacobo Fernandez-Vargas and Luca Citi\n",
    "\n",
    "Based on the [scikit-learn documentation](http://scikit-learn.org/stable/tutorial/basic/tutorial.html)"
   ]
  },
  {
   "cell_type": "markdown",
   "metadata": {},
   "source": [
    "## Loading the 'digits' dataset"
   ]
  },
  {
   "cell_type": "markdown",
   "metadata": {},
   "source": [
    "Scikit-learn comes with a few standard datasets,\n",
    "for instance the *Iris* and *digits* datasets for classification\n",
    "and the *Boston house prices* dataset for regression."
   ]
  },
  {
   "cell_type": "code",
   "execution_count": 30,
   "metadata": {},
   "outputs": [],
   "source": [
    "from sklearn import datasets\n",
    "\n",
    "digits = datasets.load_digits()"
   ]
  },
  {
   "cell_type": "markdown",
   "metadata": {},
   "source": [
    "A dataset is a dictionary-like object that holds all the data and some metadata about the data.\n",
    "The data is stored in the `.data` member,\n",
    "which is usually a `n_samples` by `n_features` array.\n",
    "In the case of supervised problem, one or more response variables are stored in the\n",
    "`.target` member."
   ]
  },
  {
   "cell_type": "markdown",
   "metadata": {},
   "source": [
    "For instance, in the case of the digits dataset,\n",
    "`digits.data` gives access to the features that can be used to classify the digits samples:"
   ]
  },
  {
   "cell_type": "code",
   "execution_count": 31,
   "metadata": {},
   "outputs": [
    {
     "name": "stdout",
     "output_type": "stream",
     "text": [
      "(1797, 64)\n",
      "[[ 0.  0.  5. ...  0.  0.  0.]\n",
      " [ 0.  0.  0. ... 10.  0.  0.]\n",
      " [ 0.  0.  0. ... 16.  9.  0.]\n",
      " ...\n",
      " [ 0.  0.  1. ...  6.  0.  0.]\n",
      " [ 0.  0.  2. ... 12.  0.  0.]\n",
      " [ 0.  0. 10. ... 12.  1.  0.]]\n"
     ]
    }
   ],
   "source": [
    "print(digits.data.shape)\n",
    "print(digits.data)"
   ]
  },
  {
   "cell_type": "markdown",
   "metadata": {},
   "source": [
    "and `digits.target` gives the ground truth for the digit dataset,\n",
    "that is the number corresponding to each digit image that we are trying to learn:"
   ]
  },
  {
   "cell_type": "code",
   "execution_count": 32,
   "metadata": {},
   "outputs": [
    {
     "name": "stdout",
     "output_type": "stream",
     "text": [
      "(1797,)\n",
      "[0 1 2 ... 8 9 8]\n"
     ]
    }
   ],
   "source": [
    "print(digits.target.shape)\n",
    "print(digits.target)"
   ]
  },
  {
   "cell_type": "markdown",
   "metadata": {},
   "source": [
    "## Learning and predicting\n",
    "In the case of the digits dataset, the task is to predict, given an image,\n",
    "which digit it represents.\n",
    "\n",
    "We are given samples of each of the 10 possible classes (the digits 0 through 9).\n",
    "These can be used to fit an estimator to predict the class an unseen example belongs to.\n",
    "\n",
    "In scikit-learn, an estimator for classification is a Python object that implements the methods\n",
    "`fit(X, y)` and `predict(T)`.\n",
    "\n",
    "If you remember in the last lab we saw that the preprocessing classes had the methods\n",
    "`fit(X, y)` and `transform(T)`. We will see the differences later.\n",
    "\n",
    "An example of an estimator is the class `sklearn.svm.SVC` that implements\n",
    "support vector classification.\n",
    "The constructor of an estimator takes as arguments the parameters of the model,\n",
    "but for the time being, we will consider the estimator as a black box:"
   ]
  },
  {
   "cell_type": "code",
   "execution_count": 33,
   "metadata": {},
   "outputs": [],
   "source": [
    "from sklearn import svm\n",
    "\n",
    "clf = svm.SVC(gamma=0.0001, C=100.)"
   ]
  },
  {
   "cell_type": "markdown",
   "metadata": {},
   "source": [
    "We call our estimator instance `clf`, as it is a classifier.\n",
    "**It now must be fitted to the model, that is, it must learn from the data**.\n",
    "This is done by passing our training set to the `fit` method.\n",
    "\n",
    "As a training set, let us use all the images of our dataset apart from the last one.\n",
    "We select this training set with the `[:-1]` Python syntax,\n",
    "which produces a new array that contains **all but the last entry** of `digits.data`:"
   ]
  },
  {
   "cell_type": "code",
   "execution_count": 34,
   "metadata": {},
   "outputs": [
    {
     "data": {
      "text/plain": "SVC(C=100.0, gamma=0.0001)"
     },
     "execution_count": 34,
     "metadata": {},
     "output_type": "execute_result"
    }
   ],
   "source": [
    "clf.fit(digits.data[:-1], digits.target[:-1])"
   ]
  },
  {
   "cell_type": "markdown",
   "metadata": {},
   "source": [
    "Now you can predict new values. In particular,\n",
    "we can ask the classifier to recognise the digit of our last image in the digits dataset,\n",
    "which we have not used to train the classifier:"
   ]
  },
  {
   "cell_type": "code",
   "execution_count": 35,
   "metadata": {},
   "outputs": [
    {
     "data": {
      "text/plain": "array([8])"
     },
     "execution_count": 35,
     "metadata": {},
     "output_type": "execute_result"
    }
   ],
   "source": [
    "clf.predict(digits.data[-1:])"
   ]
  },
  {
   "cell_type": "markdown",
   "metadata": {},
   "source": [
    "The corresponding image is the following.\n",
    "As you can see, it is a challenging task: the images are of poor resolution."
   ]
  },
  {
   "cell_type": "code",
   "execution_count": 36,
   "metadata": {},
   "outputs": [
    {
     "data": {
      "text/plain": "<matplotlib.image.AxesImage at 0x27adc0feaf0>"
     },
     "execution_count": 36,
     "metadata": {},
     "output_type": "execute_result"
    },
    {
     "data": {
      "text/plain": "<Figure size 288x288 with 1 Axes>",
      "image/png": "[encoded data removed]"
     },
     "metadata": {
      "needs_background": "light"
     },
     "output_type": "display_data"
    }
   ],
   "source": [
    "%matplotlib inline\n",
    "import numpy as np\n",
    "from matplotlib import pyplot as plt\n",
    "\n",
    "plt.matshow(digits.images[-1], cmap='binary')"
   ]
  },
  {
   "cell_type": "markdown",
   "metadata": {},
   "source": [
    "## Grid-search\n",
    "\n",
    "Almost all classifiers have parameters that need to be set.\n",
    "The meaning and roles of these pararmeters differ largely between classifiers\n",
    "and their appropiate selection can have huge impact on the results\n",
    "(but some times they may have almost no effect).\n",
    "\n",
    "This parameter fitting should happen inside a cross-validation process.\n",
    "\n",
    "Scikit-learn provides `GridSeachCV` that, given data, fit of an estimator on each combination\n",
    "of parameters on parameter grid and then chooses the parameters to maximize the\n",
    "cross validation score.\n",
    "\n",
    "To use this, we need to specify the classifier that we want to use\n",
    "and the values of the parameters that we want to test (through a dictionary).\n",
    "\n",
    "Interestingly, the  `GridSeachCV` constructor creates an object that can be used as a\n",
    "predcictor, using its `fit`, `predict`, `score`, ... methods;\n",
    "in other words it is a meta-predictor\n",
    "(i.e. a preditor built from other predictors, an SVM in this case)\n",
    "that can be used like any other predictors:"
   ]
  },
  {
   "cell_type": "code",
   "execution_count": 37,
   "metadata": {},
   "outputs": [
    {
     "data": {
      "text/plain": "1.0"
     },
     "execution_count": 37,
     "metadata": {},
     "output_type": "execute_result"
    }
   ],
   "source": [
    "from sklearn.model_selection import GridSearchCV\n",
    "\n",
    "clf = svm.SVC(gamma=0.01, C=10.)\n",
    "Cs = np.logspace(-1, 3, 5)  # five logarithmically spaced values of C\n",
    "Gs = np.logspace(-7, -0, 5)  # five logarithmically spaced values of gamma\n",
    "clf = GridSearchCV(estimator=clf, param_grid=dict(C=Cs, gamma=Gs), n_jobs=-1)\n",
    "\n",
    "clf.fit(digits.data, digits.target)\n",
    "clf.score(digits.data, digits.target)"
   ]
  },
  {
   "cell_type": "markdown",
   "metadata": {},
   "source": [
    "**IMPORTANT NOTE**\n",
    "\n",
    "The way we trained and tested (fit, score) is WRONG!\n",
    "You should not calculate the score with the same data used for training,\n",
    "as we saw in the previous lectures and lab.\n",
    "\n",
    "We did it this way for demonstration purposes of how the GridSeachCV class works.\n",
    "\n",
    "The fact that we see a score of 1.0 (100%) should make us suspicious:\n",
    "it's often a sign that we did something wrong (either that or the problem is trivial)."
   ]
  },
  {
   "cell_type": "markdown",
   "metadata": {},
   "source": [
    "We can see how the different values of C and gamma affect the performance:"
   ]
  },
  {
   "cell_type": "code",
   "execution_count": 38,
   "metadata": {},
   "outputs": [
    {
     "name": "stdout",
     "output_type": "stream",
     "text": [
      "Best parameters:  {'C': 100.0, 'gamma': 0.00031622776601683794}\n"
     ]
    },
    {
     "data": {
      "text/plain": "<Figure size 432x288 with 2 Axes>",
      "image/png": "[encoded data removed]"
     },
     "metadata": {
      "needs_background": "light"
     },
     "output_type": "display_data"
    }
   ],
   "source": [
    "# Grid results for last fold\n",
    "scores = clf.cv_results_['mean_test_score'].reshape(len(Cs), len(Gs))\n",
    "extent = np.log10([Gs[0], Gs[-1], Cs[0], Cs[-1]])\n",
    "im = plt.imshow(scores, extent=extent, origin='lower')\n",
    "plt.colorbar(im)\n",
    "plt.contour(np.log10(Gs), np.log10(Cs), scores)\n",
    "plt.xlabel('log10(Gamma)')\n",
    "plt.ylabel('log10(C)')\n",
    "print('Best parameters: ', clf.best_params_)"
   ]
  },
  {
   "cell_type": "markdown",
   "metadata": {},
   "source": [
    "## Automated cross validation\n",
    "\n",
    "In the previous lab we saw the importance of using fold validation and\n",
    "we saw a way of implementing it.\n",
    "\n",
    "Fortunately, sklearn provides us with tools that take care of most of the heavy lifting:\n",
    "`cross_val_score` and `cross_val_predict`.\n",
    "\n",
    "The former returns only the score (the error function value, for example MSE),\n",
    "while the latter returns all the predicted values.\n",
    "\n",
    "In general, the score is enough to validate a model and compare different options.\n",
    "However, having all the predicted values may be useful in some cases."
   ]
  },
  {
   "cell_type": "markdown",
   "metadata": {},
   "source": [
    "The following code may take some time as it is performing nested cross-validation.\n",
    "This is because the `cross_val_score` function performs cross-validation on a\n",
    "meta-predictor that internally performs another cross-validation loop.\n",
    "\n",
    "The result is a nested cross-validation where `cross_val_score`\n",
    "performs the outer loop for performance estimation and the `GridSeachCV`\n",
    "object takes care of the inner one for parameter tuning."
   ]
  },
  {
   "cell_type": "code",
   "execution_count": 39,
   "metadata": {},
   "outputs": [
    {
     "name": "stdout",
     "output_type": "stream",
     "text": [
      "[0.98055556 0.95555556 0.98050139 0.98885794 0.95821727]\n"
     ]
    }
   ],
   "source": [
    "from sklearn.model_selection import KFold, cross_val_score, cross_validate\n",
    "\n",
    "score = cross_val_score(clf, digits.data, digits.target, cv=5)\n",
    "print(score)\n"
   ]
  },
  {
   "cell_type": "markdown",
   "metadata": {},
   "source": [
    "As you can see the score from the fold validation varies fold to fold, and it is not 1."
   ]
  },
  {
   "cell_type": "markdown",
   "metadata": {},
   "source": [
    "## Pipelines"
   ]
  },
  {
   "cell_type": "markdown",
   "metadata": {},
   "source": [
    "One of the most flexible tools provided by Scikit-learn are the pipelines.\n",
    "These allow us to create sequential steps of preprocessing\n",
    "(those that have `fit` and `transform` methods)\n",
    "followed by a classifier\n",
    "(that has `fit` and `predict` methods).\n",
    "\n",
    "From the point of view of Scikit-learn, the pipeline itself is a classifier,\n",
    "meaning that we can use directly the grid search and the cross validation classes.\n",
    "\n",
    "(To speed up the processing, we are fixing the SVM's C parameter and tuning gamma only)."
   ]
  },
  {
   "cell_type": "code",
   "execution_count": 40,
   "metadata": {},
   "outputs": [
    {
     "name": "stdout",
     "output_type": "stream",
     "text": [
      "[0.97777778 0.95555556 0.98328691 0.98607242 0.9637883 ]\n"
     ]
    }
   ],
   "source": [
    "from sklearn.pipeline import Pipeline\n",
    "from sklearn.preprocessing import StandardScaler\n",
    "\n",
    "sc = StandardScaler()\n",
    "clf = svm.SVC(gamma=0.01, C=10.)\n",
    "pipe = Pipeline(steps=[('scaler', sc), ('classifier', clf)])\n",
    "# Parameters of pipelines can be set using ‘__’\n",
    "# between the name of the pipeline block and its parameter names:\n",
    "class_c = np.logspace(-1, 3, 5)\n",
    "class_gammas = np.logspace(-4, -3, 3)\n",
    "param_grid = {\n",
    "    'scaler__with_std': [True, False],\n",
    "    'classifier__C': class_c,\n",
    "    'classifier__gamma': class_gammas,\n",
    "}\n",
    "search = GridSearchCV(pipe, param_grid, n_jobs=-1)\n",
    "score = cross_val_score(search, digits.data, digits.target) \n",
    "print(score)\n",
    "\n",
    "cv = KFold(shuffle=True)\n",
    "scores = cross_validate(search, digits.data, digits.target, scoring=['accuracy'], cv=cv, return_estimator=True)"
   ]
  },
  {
   "cell_type": "markdown",
   "metadata": {},
   "source": [
    "In this particular case, the inclusion of a scaler did not have any impact on the results\n",
    "(because gray levels are somewhat already normalised and\n",
    "possibly because we are not tuning C), but it may be extremely helpful in other cases."
   ]
  },
  {
   "cell_type": "code",
   "execution_count": 48,
   "outputs": [
    {
     "name": "stdout",
     "output_type": "stream",
     "text": [
      "5\n",
      "dict_keys(['fit_time', 'score_time', 'estimator', 'test_accuracy'])\n"
     ]
    },
    {
     "data": {
      "text/plain": "<Figure size 432x288 with 6 Axes>",
      "image/png": "[encoded data removed]"
     },
     "metadata": {
      "needs_background": "light"
     },
     "output_type": "display_data"
    }
   ],
   "source": [
    "%matplotlib inline\n",
    "from matplotlib import pyplot as plt\n",
    "\n",
    "print(len(scores['estimator']))\n",
    "\n",
    "fig, axes = plt.subplots(nrows=1, ncols=5)\n",
    "\n",
    "for i in range(0, len(scores['estimator'])):\n",
    "    ax = axes[i]\n",
    "    est = scores['estimator'][i]\n",
    "    \n",
    "    thisScores = est.cv_results_['mean_test_score'].reshape(len(class_c), len(class_gammas))\n",
    "    \n",
    "    # TODO: finish doing this\n",
    "\n",
    "features = np.zeros((len(param_grid['scaler__with_std']), len(param_grid['classifier__gamma'])))\n",
    "for estimator in scores['estimator']:\n",
    "    features += estimator.cv_results_['mean_test_score'].reshape(features.shape)\n",
    "features /= len(scores['estimator'])\n",
    "\n",
    "im = plt.imshow(features, origin='lower')\n",
    "plt.colorbar(im)\n",
    "plt.xticks(np.arange(len(param_grid['scaler__with_std'])), param_grid['scaler__with_std'])\n",
    "plt.yticks(np.arange(len(param_grid['classifier__gamma'])), param_grid['classifier__gamma'])\n",
    "plt.xlabel(\"Scaler\")\n",
    "plt.ylabel(\"Classifier gamma\")\n",
    "plt.show()"
   ],
   "metadata": {
    "collapsed": false,
    "pycharm": {
     "name": "#%%\n"
    }
   }
  },
  {
   "cell_type": "markdown",
   "metadata": {},
   "source": [
    "# Testing different classifiers"
   ]
  },
  {
   "cell_type": "markdown",
   "metadata": {},
   "source": [
    "### Exercise 1"
   ]
  },
  {
   "cell_type": "markdown",
   "metadata": {},
   "source": [
    "Try other classifiers to solve the problem and compare their results.\n",
    "Suggestions for classifiers: Logistic Regression, Decision Trees.\n",
    "\n",
    "You will need to look up the documentation to find which are the parameters to be fit\n",
    "as well as the different classes available.\n",
    "\n",
    "Once you do this, you will see how easy is to change the model and\n",
    "test different approaches with this set up."
   ]
  },
  {
   "cell_type": "code",
   "execution_count": 42,
   "outputs": [],
   "source": [
    "\n",
    "\n",
    "def classifier_tester(clf, clf_params, the_data):\n",
    "\n",
    "    scl = StandardScaler()\n",
    "\n",
    "    pline = Pipeline(\n",
    "        [\n",
    "            (\"scaler\",scl),\n",
    "            (\"classifier\", clf)\n",
    "        ]\n",
    "    )\n",
    "\n",
    "\n",
    "\n"
   ],
   "metadata": {
    "collapsed": false,
    "pycharm": {
     "name": "#%%\n"
    }
   }
  },
  {
   "cell_type": "code",
   "execution_count": 43,
   "outputs": [],
   "source": [
    "\n",
    "\n",
    "# Decision Tree\n",
    "\n",
    "from sklearn import tree\n",
    "\n",
    "kfold = KFold(shuffle=True, n_splits=5)\n",
    "\n",
    "dtree = tree.DecisionTreeClassifier(max_depth=15, min_samples_leaf=1)\n"
   ],
   "metadata": {
    "collapsed": false,
    "pycharm": {
     "name": "#%%\n"
    }
   }
  },
  {
   "cell_type": "markdown",
   "metadata": {},
   "source": [
    "# Regression and unsupervised learning"
   ]
  },
  {
   "cell_type": "markdown",
   "metadata": {},
   "source": [
    "In this lab we have seen how to use sklearn to solve a classification problem,\n",
    "which is why we used support vector machines.\n",
    "\n",
    "However, everything that we have seen here can be applied to both regression and\n",
    "(to some extent) unsupervised learning.\n",
    "\n",
    "Depending on the problem we will need to vary the model used for the prediction\n",
    "but most of the concepts seen on this lab also apply to those cases."
   ]
  },
  {
   "cell_type": "markdown",
   "metadata": {},
   "source": [
    "### Exercise 2"
   ]
  },
  {
   "cell_type": "markdown",
   "metadata": {},
   "source": [
    "Load the boston dataset form sklearn `datasets.load_boston` and\n",
    "use what you have learned to solve a regression problem."
   ]
  },
  {
   "cell_type": "markdown",
   "metadata": {},
   "source": [
    "# Custom pipelines"
   ]
  },
  {
   "cell_type": "markdown",
   "metadata": {},
   "source": [
    "This is a more advanced topic (and exercise) for those who would like to go beyond\n",
    "scikit-learn's base functionalities\n",
    "(it may require some familiarity with Python classes).\n",
    "\n",
    "One of the advantages of the pipelines, is how easy it is to create new modules to\n",
    "perform personalised steps and include them into the pipeline.\n",
    "\n",
    "To do this, you only need to create a class that inherits both from `BaseEstimator`\n",
    "and `TransformerMixin`.\n",
    "\n",
    "Then the class must have the methods `__init__`, `fit`, `transform`,\n",
    "and (optionally) `fit_transform`. It may have others methods if needed."
   ]
  },
  {
   "cell_type": "markdown",
   "metadata": {},
   "source": [
    "### Exercise 3\n",
    "\n",
    "This is a more advanced exercise. Create a module that clips the data\n",
    "(to remove outliers) based on the Inter Quartile Range (IQR) and a\n",
    "multiplier ([Tukey's fences](https://en.wikipedia.org/wiki/Outlier#Tukey's_fences)).\n",
    "\n",
    "The IQR is the distance between the first (Q1) and third (Q3) quartiles.\n",
    "\n",
    "The module should clip those values that are below\n",
    "Q1 - x\\*IQR or above Q3 + x\\*IQR\n",
    "(remember that parameters, IQR in this case, must be fitted on training data only!).\n",
    "\n",
    "You can use the following template:"
   ]
  },
  {
   "cell_type": "code",
   "execution_count": 44,
   "metadata": {},
   "outputs": [],
   "source": [
    "from sklearn.base import BaseEstimator, TransformerMixin\n",
    "import numpy as np\n",
    "\n",
    "class ThresholdClipper(BaseEstimator, TransformerMixin):\n",
    "    def __init__(self, qoffset=1.5):\n",
    "        self.qoffset = qoffset\n",
    "\n",
    "    def fit(self, X, y=None):\n",
    "        ##TODO\n",
    "        return self\n",
    "\n",
    "    def transform(self, X, y=None):\n",
    "        ##TODO\n",
    "        return X\n",
    "\n",
    "    def fit_transform(self, X, y=None, **fit_params):\n",
    "        self.fit(X, y)\n",
    "        return self.transform(X, y)"
   ]
  },
  {
   "cell_type": "markdown",
   "metadata": {},
   "source": [
    "Now you can use this module inside your pipeline to remove outliers."
   ]
  },
  {
   "cell_type": "code",
   "execution_count": 44,
   "metadata": {},
   "outputs": [],
   "source": []
  }
 ],
 "metadata": {
  "kernelspec": {
   "display_name": "Python 3",
   "language": "python",
   "name": "python3"
  },
  "language_info": {
   "codemirror_mode": {
    "name": "ipython",
    "version": 3
   },
   "file_extension": ".py",
   "mimetype": "text/x-python",
   "name": "python",
   "nbconvert_exporter": "python",
   "pygments_lexer": "ipython3",
   "version": "3.7.9"
  }
 },
 "nbformat": 4,
 "nbformat_minor": 4
}