{
 "cells": [
  {
   "cell_type": "markdown",
   "metadata": {},
   "source": [
    "# Solving the lizard problem"
   ]
  },
  {
   "cell_type": "markdown",
   "metadata": {},
   "source": [
    "By: Jacobo Fernández-Vargas and Luca Citi"
   ]
  },
  {
   "cell_type": "markdown",
   "metadata": {},
   "source": [
    "We are now going to solve from beginning to end the problem that was left as\n",
    "exercise in the second lab.\n",
    "\n",
    "This will allow us to go through all the steps involved in creating and testing\n",
    "a machine learning model.\n",
    "\n",
    "It is important to know that this dataset was not intended to use for\n",
    "classifications purposes, so we may not get good results or it may be a trivial problem.\n",
    "\n",
    "Regardless, this example will serve its purpose of seeing an example of building a\n",
    "pipeline from start to end. We will also point to some common errors."
   ]
  },
  {
   "cell_type": "markdown",
   "metadata": {},
   "source": [
    "## The data\n",
    "\n",
    "The data comes from a paper [1] that aimed at finding differences\n",
    "in the behaviour of lizards depending on the colour of their abdomen\n",
    "(yellow, white or orange).\n",
    "\n",
    "For example the authors wanted to know if lizards of a specific colour\n",
    "have bigger territories. Each sample is one observation of a specific lizard.\n",
    "\n",
    "The authors of the paper could not find any differences.\n",
    "We are going to use the dataset in a different way\n",
    "(i.e. predicting the colour of a lizard observed at a specific location at a given time).\n",
    "\n",
    "[1] https://onlinelibrary.wiley.com/doi/10.1002/ece3.6659"
   ]
  },
  {
   "cell_type": "markdown",
   "metadata": {},
   "source": [
    "## Loading the data"
   ]
  },
  {
   "cell_type": "markdown",
   "metadata": {},
   "source": [
    "Since we know that the data is not ready to use in numpy,\n",
    "we use pandas to load the data and preprocess it."
   ]
  },
  {
   "cell_type": "code",
   "execution_count": 47,
   "metadata": {},
   "outputs": [],
   "source": [
    "import pandas as pd"
   ]
  },
  {
   "cell_type": "code",
   "execution_count": 48,
   "metadata": {},
   "outputs": [
    {
     "data": {
      "text/plain": "      ID_e         E         N Sex       Date   Hour Cell Label\n0     e1f1  5.583066  1.175189   f  05/6/2018  12:27   e1     o\n1     e1f1  5.325020  0.962680   f  21/6/2018  10:20   e1     o\n2     e1f1  3.412439  0.947501   f  21/6/2018  14:25   e1     o\n3     e1f1  3.761561  2.010046   f  21/6/2018  12:30   e1     o\n4     e1f1       NaN  1.144831   f  15/6/2018  12:06   e1     o\n...    ...       ...       ...  ..        ...    ...  ...   ...\n7184  e9m9  1.103858       NaN   m  25/5/2018  15:40   e9     y\n7185  e9m9  3.699470       NaN   m  25/5/2018  17:21   e9     y\n7186  e9m9  1.766447       NaN   m  24/5/2018  16:26   e9     y\n7187  e9m9  0.497900  1.169597   m  23/5/2018  12:30   e9     y\n7188  e9m9  3.990179  1.146944   m  23/5/2018  13:44   e9     y\n\n[7189 rows x 8 columns]",
      "text/html": "<div>\n<style scoped>\n    .dataframe tbody tr th:only-of-type {\n        vertical-align: middle;\n    }\n\n    .dataframe tbody tr th {\n        vertical-align: top;\n    }\n\n    .dataframe thead th {\n        text-align: right;\n    }\n</style>\n<table border=\"1\" class=\"dataframe\">\n  <thead>\n    <tr style=\"text-align: right;\">\n      <th></th>\n      <th>ID_e</th>\n      <th>E</th>\n      <th>N</th>\n      <th>Sex</th>\n      <th>Date</th>\n      <th>Hour</th>\n      <th>Cell</th>\n      <th>Label</th>\n    </tr>\n  </thead>\n  <tbody>\n    <tr>\n      <th>0</th>\n      <td>e1f1</td>\n      <td>5.583066</td>\n      <td>1.175189</td>\n      <td>f</td>\n      <td>05/6/2018</td>\n      <td>12:27</td>\n      <td>e1</td>\n      <td>o</td>\n    </tr>\n    <tr>\n      <th>1</th>\n      <td>e1f1</td>\n      <td>5.325020</td>\n      <td>0.962680</td>\n      <td>f</td>\n      <td>21/6/2018</td>\n      <td>10:20</td>\n      <td>e1</td>\n      <td>o</td>\n    </tr>\n    <tr>\n      <th>2</th>\n      <td>e1f1</td>\n      <td>3.412439</td>\n      <td>0.947501</td>\n      <td>f</td>\n      <td>21/6/2018</td>\n      <td>14:25</td>\n      <td>e1</td>\n      <td>o</td>\n    </tr>\n    <tr>\n      <th>3</th>\n      <td>e1f1</td>\n      <td>3.761561</td>\n      <td>2.010046</td>\n      <td>f</td>\n      <td>21/6/2018</td>\n      <td>12:30</td>\n      <td>e1</td>\n      <td>o</td>\n    </tr>\n    <tr>\n      <th>4</th>\n      <td>e1f1</td>\n      <td>NaN</td>\n      <td>1.144831</td>\n      <td>f</td>\n      <td>15/6/2018</td>\n      <td>12:06</td>\n      <td>e1</td>\n      <td>o</td>\n    </tr>\n    <tr>\n      <th>...</th>\n      <td>...</td>\n      <td>...</td>\n      <td>...</td>\n      <td>...</td>\n      <td>...</td>\n      <td>...</td>\n      <td>...</td>\n      <td>...</td>\n    </tr>\n    <tr>\n      <th>7184</th>\n      <td>e9m9</td>\n      <td>1.103858</td>\n      <td>NaN</td>\n      <td>m</td>\n      <td>25/5/2018</td>\n      <td>15:40</td>\n      <td>e9</td>\n      <td>y</td>\n    </tr>\n    <tr>\n      <th>7185</th>\n      <td>e9m9</td>\n      <td>3.699470</td>\n      <td>NaN</td>\n      <td>m</td>\n      <td>25/5/2018</td>\n      <td>17:21</td>\n      <td>e9</td>\n      <td>y</td>\n    </tr>\n    <tr>\n      <th>7186</th>\n      <td>e9m9</td>\n      <td>1.766447</td>\n      <td>NaN</td>\n      <td>m</td>\n      <td>24/5/2018</td>\n      <td>16:26</td>\n      <td>e9</td>\n      <td>y</td>\n    </tr>\n    <tr>\n      <th>7187</th>\n      <td>e9m9</td>\n      <td>0.497900</td>\n      <td>1.169597</td>\n      <td>m</td>\n      <td>23/5/2018</td>\n      <td>12:30</td>\n      <td>e9</td>\n      <td>y</td>\n    </tr>\n    <tr>\n      <th>7188</th>\n      <td>e9m9</td>\n      <td>3.990179</td>\n      <td>1.146944</td>\n      <td>m</td>\n      <td>23/5/2018</td>\n      <td>13:44</td>\n      <td>e9</td>\n      <td>y</td>\n    </tr>\n  </tbody>\n</table>\n<p>7189 rows × 8 columns</p>\n</div>"
     },
     "execution_count": 48,
     "metadata": {},
     "output_type": "execute_result"
    }
   ],
   "source": [
    "import sklearn.preprocessing\n",
    "\n",
    "data = pd.read_csv('exercise1.csv')\n",
    "data"
   ]
  },
  {
   "cell_type": "markdown",
   "metadata": {},
   "source": [
    "The first thing that we are going to do is to merge the Date and Hour columns.\n",
    "For this, we will concatenate the strings that contain the date and time\n",
    "and then transform them into a datetime object.\n",
    "\n",
    "We will then transform the result into a number\n",
    "(the number of days since a reference time point).\n",
    "Finally, we will remove the extra column."
   ]
  },
  {
   "cell_type": "code",
   "execution_count": 49,
   "metadata": {},
   "outputs": [
    {
     "data": {
      "text/plain": "   ID_e         E         N Sex        Date Cell Label\n0  e1f1  5.583066  1.175189   f  125.518750   e1     o\n1  e1f1  5.325020  0.962680   f  171.430556   e1     o\n2  e1f1  3.412439  0.947501   f  171.600694   e1     o\n3  e1f1  3.761561  2.010046   f  171.520833   e1     o\n4  e1f1       NaN  1.144831   f  165.504167   e1     o",
      "text/html": "<div>\n<style scoped>\n    .dataframe tbody tr th:only-of-type {\n        vertical-align: middle;\n    }\n\n    .dataframe tbody tr th {\n        vertical-align: top;\n    }\n\n    .dataframe thead th {\n        text-align: right;\n    }\n</style>\n<table border=\"1\" class=\"dataframe\">\n  <thead>\n    <tr style=\"text-align: right;\">\n      <th></th>\n      <th>ID_e</th>\n      <th>E</th>\n      <th>N</th>\n      <th>Sex</th>\n      <th>Date</th>\n      <th>Cell</th>\n      <th>Label</th>\n    </tr>\n  </thead>\n  <tbody>\n    <tr>\n      <th>0</th>\n      <td>e1f1</td>\n      <td>5.583066</td>\n      <td>1.175189</td>\n      <td>f</td>\n      <td>125.518750</td>\n      <td>e1</td>\n      <td>o</td>\n    </tr>\n    <tr>\n      <th>1</th>\n      <td>e1f1</td>\n      <td>5.325020</td>\n      <td>0.962680</td>\n      <td>f</td>\n      <td>171.430556</td>\n      <td>e1</td>\n      <td>o</td>\n    </tr>\n    <tr>\n      <th>2</th>\n      <td>e1f1</td>\n      <td>3.412439</td>\n      <td>0.947501</td>\n      <td>f</td>\n      <td>171.600694</td>\n      <td>e1</td>\n      <td>o</td>\n    </tr>\n    <tr>\n      <th>3</th>\n      <td>e1f1</td>\n      <td>3.761561</td>\n      <td>2.010046</td>\n      <td>f</td>\n      <td>171.520833</td>\n      <td>e1</td>\n      <td>o</td>\n    </tr>\n    <tr>\n      <th>4</th>\n      <td>e1f1</td>\n      <td>NaN</td>\n      <td>1.144831</td>\n      <td>f</td>\n      <td>165.504167</td>\n      <td>e1</td>\n      <td>o</td>\n    </tr>\n  </tbody>\n</table>\n</div>"
     },
     "execution_count": 49,
     "metadata": {},
     "output_type": "execute_result"
    }
   ],
   "source": [
    "data['Date'] = pd.to_datetime(data['Date'] + ' ' + data['Hour'])\n",
    "data = data.drop('Hour', axis=1)\n",
    "time0 = pd.Timestamp('2018-01-01 00:00:00')\n",
    "data['Date'] = (data['Date'] - time0) / pd.Timedelta(1, 'day')\n",
    "data.head()"
   ]
  },
  {
   "cell_type": "markdown",
   "metadata": {},
   "source": [
    "We will now transform all categorical values into numerical ones.\n",
    "For the sex we will use just 0 and 1.\n",
    "For the column 'Cell', we could either use the number in the cell\n",
    "or convert the field using a one-hot-encoder.\n",
    "\n",
    "It's hard  to decide which option is best without having additional details\n",
    "about the data collection. For simplicity, we will just use the cell number."
   ]
  },
  {
   "cell_type": "code",
   "execution_count": 50,
   "metadata": {},
   "outputs": [
    {
     "data": {
      "text/plain": "   ID_e         E         N  Sex        Date  Cell Label\n0  e1f1  5.583066  1.175189    0  125.518750     1     o\n1  e1f1  5.325020  0.962680    0  171.430556     1     o\n2  e1f1  3.412439  0.947501    0  171.600694     1     o\n3  e1f1  3.761561  2.010046    0  171.520833     1     o\n4  e1f1       NaN  1.144831    0  165.504167     1     o",
      "text/html": "<div>\n<style scoped>\n    .dataframe tbody tr th:only-of-type {\n        vertical-align: middle;\n    }\n\n    .dataframe tbody tr th {\n        vertical-align: top;\n    }\n\n    .dataframe thead th {\n        text-align: right;\n    }\n</style>\n<table border=\"1\" class=\"dataframe\">\n  <thead>\n    <tr style=\"text-align: right;\">\n      <th></th>\n      <th>ID_e</th>\n      <th>E</th>\n      <th>N</th>\n      <th>Sex</th>\n      <th>Date</th>\n      <th>Cell</th>\n      <th>Label</th>\n    </tr>\n  </thead>\n  <tbody>\n    <tr>\n      <th>0</th>\n      <td>e1f1</td>\n      <td>5.583066</td>\n      <td>1.175189</td>\n      <td>0</td>\n      <td>125.518750</td>\n      <td>1</td>\n      <td>o</td>\n    </tr>\n    <tr>\n      <th>1</th>\n      <td>e1f1</td>\n      <td>5.325020</td>\n      <td>0.962680</td>\n      <td>0</td>\n      <td>171.430556</td>\n      <td>1</td>\n      <td>o</td>\n    </tr>\n    <tr>\n      <th>2</th>\n      <td>e1f1</td>\n      <td>3.412439</td>\n      <td>0.947501</td>\n      <td>0</td>\n      <td>171.600694</td>\n      <td>1</td>\n      <td>o</td>\n    </tr>\n    <tr>\n      <th>3</th>\n      <td>e1f1</td>\n      <td>3.761561</td>\n      <td>2.010046</td>\n      <td>0</td>\n      <td>171.520833</td>\n      <td>1</td>\n      <td>o</td>\n    </tr>\n    <tr>\n      <th>4</th>\n      <td>e1f1</td>\n      <td>NaN</td>\n      <td>1.144831</td>\n      <td>0</td>\n      <td>165.504167</td>\n      <td>1</td>\n      <td>o</td>\n    </tr>\n  </tbody>\n</table>\n</div>"
     },
     "execution_count": 50,
     "metadata": {},
     "output_type": "execute_result"
    }
   ],
   "source": [
    "cleanup = {\"Sex\": {\"f\":0, \"m\":1},\n",
    "          \"Cell\": {\"e1\":1, \"e2\":2, \"e3\":3, \"e4\":4, \"e5\":5, \"e6\":6, \"e7\":7, \"e8\":8, \"e9\":9, \"e10\":10}\n",
    "          }\n",
    "data.replace(cleanup, inplace=True)\n",
    "data.head()"
   ]
  },
  {
   "cell_type": "markdown",
   "metadata": {},
   "source": [
    "If we look at the data, we can see that the ID is just a concatenation of the cell,\n",
    "the sex and the lizard number.\n",
    "Because of this, there is a perfect mapping between the ID and the label.\n",
    "However, instead of removing it right away,\n",
    "we are going to use it to fill the missing values in E and N.\n",
    "\n",
    "We will first transform the ID into a numeric value using the method `factorize`."
   ]
  },
  {
   "cell_type": "code",
   "execution_count": 51,
   "metadata": {},
   "outputs": [
    {
     "data": {
      "text/plain": "      ID_e         E         N  Sex        Date  Cell Label\n0        0  5.583066  1.175189    0  125.518750     1     o\n1        0  5.325020  0.962680    0  171.430556     1     o\n2        0  3.412439  0.947501    0  171.600694     1     o\n3        0  3.761561  2.010046    0  171.520833     1     o\n4        0       NaN  1.144831    0  165.504167     1     o\n...    ...       ...       ...  ...         ...   ...   ...\n7184   179  1.103858       NaN    1  144.652778     9     y\n7185   179  3.699470       NaN    1  144.722917     9     y\n7186   179  1.766447       NaN    1  143.684722     9     y\n7187   179  0.497900  1.169597    1  142.520833     9     y\n7188   179  3.990179  1.146944    1  142.572222     9     y\n\n[7189 rows x 7 columns]",
      "text/html": "<div>\n<style scoped>\n    .dataframe tbody tr th:only-of-type {\n        vertical-align: middle;\n    }\n\n    .dataframe tbody tr th {\n        vertical-align: top;\n    }\n\n    .dataframe thead th {\n        text-align: right;\n    }\n</style>\n<table border=\"1\" class=\"dataframe\">\n  <thead>\n    <tr style=\"text-align: right;\">\n      <th></th>\n      <th>ID_e</th>\n      <th>E</th>\n      <th>N</th>\n      <th>Sex</th>\n      <th>Date</th>\n      <th>Cell</th>\n      <th>Label</th>\n    </tr>\n  </thead>\n  <tbody>\n    <tr>\n      <th>0</th>\n      <td>0</td>\n      <td>5.583066</td>\n      <td>1.175189</td>\n      <td>0</td>\n      <td>125.518750</td>\n      <td>1</td>\n      <td>o</td>\n    </tr>\n    <tr>\n      <th>1</th>\n      <td>0</td>\n      <td>5.325020</td>\n      <td>0.962680</td>\n      <td>0</td>\n      <td>171.430556</td>\n      <td>1</td>\n      <td>o</td>\n    </tr>\n    <tr>\n      <th>2</th>\n      <td>0</td>\n      <td>3.412439</td>\n      <td>0.947501</td>\n      <td>0</td>\n      <td>171.600694</td>\n      <td>1</td>\n      <td>o</td>\n    </tr>\n    <tr>\n      <th>3</th>\n      <td>0</td>\n      <td>3.761561</td>\n      <td>2.010046</td>\n      <td>0</td>\n      <td>171.520833</td>\n      <td>1</td>\n      <td>o</td>\n    </tr>\n    <tr>\n      <th>4</th>\n      <td>0</td>\n      <td>NaN</td>\n      <td>1.144831</td>\n      <td>0</td>\n      <td>165.504167</td>\n      <td>1</td>\n      <td>o</td>\n    </tr>\n    <tr>\n      <th>...</th>\n      <td>...</td>\n      <td>...</td>\n      <td>...</td>\n      <td>...</td>\n      <td>...</td>\n      <td>...</td>\n      <td>...</td>\n    </tr>\n    <tr>\n      <th>7184</th>\n      <td>179</td>\n      <td>1.103858</td>\n      <td>NaN</td>\n      <td>1</td>\n      <td>144.652778</td>\n      <td>9</td>\n      <td>y</td>\n    </tr>\n    <tr>\n      <th>7185</th>\n      <td>179</td>\n      <td>3.699470</td>\n      <td>NaN</td>\n      <td>1</td>\n      <td>144.722917</td>\n      <td>9</td>\n      <td>y</td>\n    </tr>\n    <tr>\n      <th>7186</th>\n      <td>179</td>\n      <td>1.766447</td>\n      <td>NaN</td>\n      <td>1</td>\n      <td>143.684722</td>\n      <td>9</td>\n      <td>y</td>\n    </tr>\n    <tr>\n      <th>7187</th>\n      <td>179</td>\n      <td>0.497900</td>\n      <td>1.169597</td>\n      <td>1</td>\n      <td>142.520833</td>\n      <td>9</td>\n      <td>y</td>\n    </tr>\n    <tr>\n      <th>7188</th>\n      <td>179</td>\n      <td>3.990179</td>\n      <td>1.146944</td>\n      <td>1</td>\n      <td>142.572222</td>\n      <td>9</td>\n      <td>y</td>\n    </tr>\n  </tbody>\n</table>\n<p>7189 rows × 7 columns</p>\n</div>"
     },
     "execution_count": 51,
     "metadata": {},
     "output_type": "execute_result"
    }
   ],
   "source": [
    "data['ID_e'] = pd.factorize(data.ID_e)[0]\n",
    "data"
   ]
  },
  {
   "cell_type": "markdown",
   "metadata": {},
   "source": [
    "Finally, we need to change the label.\n",
    "We could use a one-hot encoder for this,\n",
    "as the label seems to be a categorical value with no ordinal relationship.\n",
    "However, most classifiers need a single output\n",
    "and treat multiclass problems as one vs. all approach,\n",
    "so using a one-hot encoder is not strictly required.\n",
    "\n",
    "A notable exception to this are artificial neural networks\n",
    "(so if we want to use ANN we would need to change the following lines\n",
    "to use a one-hot encoder).\n",
    "\n",
    "Most classifiers that deal with more than 2 classes tend to do the probability\n",
    "or something along those lines for what each thing is\n",
    "`[prob of A, prob of B, prob of C]`\n",
    "\n",
    "Decision trees and neural networks work well with more than 2 classes.\n",
    "Most other classifiers don't."
   ]
  },
  {
   "cell_type": "code",
   "execution_count": 52,
   "metadata": {},
   "outputs": [],
   "source": [
    "data['Label'] = pd.factorize(data.Label)[0]"
   ]
  },
  {
   "cell_type": "markdown",
   "metadata": {},
   "source": [
    "Now we are ready to transfer the data to numpy arrays."
   ]
  },
  {
   "cell_type": "code",
   "execution_count": 53,
   "metadata": {},
   "outputs": [],
   "source": [
    "import numpy as np\n",
    "x = data.loc[:, data.columns != 'Label'].to_numpy()\n",
    "y = data.loc[:, 'Label'].to_numpy()"
   ]
  },
  {
   "cell_type": "markdown",
   "metadata": {},
   "source": [
    "We now check for missing values."
   ]
  },
  {
   "cell_type": "code",
   "execution_count": 54,
   "metadata": {},
   "outputs": [
    {
     "data": {
      "text/plain": "array([  0, 387, 390,   0,   0,   0])"
     },
     "execution_count": 54,
     "metadata": {},
     "output_type": "execute_result"
    }
   ],
   "source": [
    "np.sum(np.isnan(x),0)"
   ]
  },
  {
   "cell_type": "markdown",
   "metadata": {},
   "source": [
    "## Prediction\n",
    "For the prediction we are going to use a Random Forest approach,\n",
    "which uses ensembles of decision trees.\n",
    "We are going to tune its main parameters: the number of trees and the maximum depth.\n",
    "\n",
    "For the imputation of the missing values we will use the average based on the ID.\n",
    "Considering that decision trees ignore the magnitude of the inputs,\n",
    "we will not use any normalisation or scaling.\n",
    "\n",
    "Also, we will remove the ID_e column as we know that it's a false predictor.\n",
    "\n",
    "Finally, as we know that the data is groupped by lizard,\n",
    "we will use cross validation with shuffling."
   ]
  },
  {
   "cell_type": "markdown",
   "metadata": {},
   "source": [
    "Let us now start by creating the imputer\n",
    "\n",
    "* Grouping by each lizard, finding the mean position for each lizard\n",
    "* If we find a missing value:\n",
    "    * If we've seen that lizard before\n",
    "        * We fill in its position to be the mean position for that lizard\n",
    "    * If we haven't seen that lizard before\n",
    "        * We fill in its position with the mean position for all lizards"
   ]
  },
  {
   "cell_type": "code",
   "execution_count": 55,
   "metadata": {},
   "outputs": [],
   "source": [
    "from sklearn.base import BaseEstimator, TransformerMixin\n",
    "\n",
    "# We need to create a pipeline module for our special imputation method\n",
    "class GroupImputer(BaseEstimator, TransformerMixin):\n",
    "    def __init__(self, apply_to_columns, group_by_column):\n",
    "        self.apply_to_columns = apply_to_columns\n",
    "        self.group_by_column = group_by_column\n",
    "\n",
    "    def fit(self, X, y=None):\n",
    "        self.global_mean = np.nanmean(X[:, self.apply_to_columns], axis=0)  # compute the global mean to be used as fallback method\n",
    "        groups = np.unique(X[:, self.group_by_column])  # get the groups in the set\n",
    "        self.group_means = {}\n",
    "        for group in groups:\n",
    "            selected = X[:, self.group_by_column] == group  # select rows belonging to the group 'group'\n",
    "            group_means = np.nanmean(X[np.ix_(selected, self.apply_to_columns)], axis=0)  # compute group means\n",
    "            group_means[np.isnan(group_means)] = self.global_mean[np.isnan(group_means)]  # if any mean is missing, use global mean\n",
    "            self.group_means[group] = group_means  # store for later use\n",
    "        return self\n",
    "\n",
    "    def transform(self, X, y=None):\n",
    "        nans = np.isnan(X[:, self.apply_to_columns])\n",
    "        if not np.any(nans):\n",
    "            return X  # return X unchanged if there are no missing values\n",
    "        X = np.copy(X)  # work on a copy of the data\n",
    "        groups = np.unique(X[:, self.group_by_column])  # get the groups in the set\n",
    "        for group in groups:\n",
    "            selected = X[:, self.group_by_column] == group  # select rows belonging to the group 'group'\n",
    "            group_means = self.group_means.get(group, self.global_mean)  # retrieve saved group means if any, otherwise use global mean\n",
    "            for j in range(len(self.apply_to_columns)):\n",
    "                X[np.logical_and(nans[:, j], selected), self.apply_to_columns[j]] = group_means[j]  # replace nans\n",
    "        return X\n",
    "\n",
    "    def fit_transform(self, X, y=None, **fit_params):\n",
    "        self.fit(X, y, **fit_params)\n",
    "        return self.transform(X, y)"
   ]
  },
  {
   "cell_type": "markdown",
   "metadata": {},
   "source": [
    "We can now build the pipleline.\n",
    "Note that we need to remove the ID_e column as it's a false predictor.\n",
    "\n",
    "We then train the random forest classifier, tuning its parameters using a grid search.\n",
    "\n",
    "Note that we are not calling to individual methods for `fit` and `predict`,\n",
    "everything is performed through the `cross_validate` method.\n",
    "\n",
    "We use `ColumnTransformer` to drop the ID_e column without any problems.\n",
    "\n",
    "`pipe` is the pipeline we're using. Sums up the full pipeline stuff in a few lines of code."
   ]
  },
  {
   "cell_type": "code",
   "execution_count": 56,
   "metadata": {},
   "outputs": [],
   "source": [
    "import sklearn.metrics as mt\n",
    "from sklearn.pipeline import Pipeline\n",
    "from sklearn.compose import ColumnTransformer\n",
    "from sklearn.ensemble import RandomForestClassifier\n",
    "from sklearn.model_selection import cross_validate, KFold, GridSearchCV\n",
    "\n",
    "\n",
    "cv = KFold(shuffle=True) # perform CV after shuffling the data\n",
    "# SHOULD ALWAYS SHUFFLE THE DATA IF WE ALREADY KNOW STUFF ABOUT THE DATA!\n",
    "# but may not always be a good idea, such as if we're using 'leave one out' validation\n",
    "# (where we train using all but one of the lizards, then test on the other lizard)\n",
    "\n",
    "imputer = GroupImputer(apply_to_columns=[1, 2], group_by_column=0)\n",
    "# impute cols 1 and 2 using groups in col 0\n",
    "\n",
    "dropper = ColumnTransformer([('dropper', 'drop', 0)], remainder='passthrough')\n",
    "# drop column 0 (ID_e) and leave others unchanged\n",
    "\n",
    "rf = RandomForestClassifier()\n",
    "# We're using the RandomForestClassifier for classification\n",
    "\n",
    "pipe = Pipeline([('imputer', imputer), ('dropper', dropper), ('rf', rf)])\n",
    "# build pipeline\n",
    "# as far as sklearn cares, this pipeline is a classifier.\n",
    "\n",
    "# input data -> imputer -> dropper -> rf -> classified data\n",
    "\n",
    "param_grid = {\n",
    "    'rf__n_estimators': np.arange(3, 51, 6), # test forests of different sizes\n",
    "    'rf__max_depth': [3, 5, 10, 20]          # test different values for max_depth\n",
    "}"
   ]
  },
  {
   "cell_type": "markdown",
   "source": [
    "And here we cross-validate stuff"
   ],
   "metadata": {
    "collapsed": false,
    "pycharm": {
     "name": "#%% md\n"
    }
   }
  },
  {
   "cell_type": "code",
   "execution_count": 57,
   "outputs": [],
   "source": [
    "search = GridSearchCV(pipe, param_grid, n_jobs=-1)\n",
    "scores = cross_validate(search, x, y, scoring=['accuracy'], cv=cv, return_estimator=True)"
   ],
   "metadata": {
    "collapsed": false,
    "pycharm": {
     "name": "#%%\n"
    }
   }
  },
  {
   "cell_type": "markdown",
   "metadata": {},
   "source": [
    "We now have the results for 5 folds for each configuration of the classifer.\n",
    "\n",
    "\n",
    "With the results,\n",
    "we can explore the parameters to know the best combination of\n",
    "number of trees and maximum depth.\n",
    "\n",
    "We can do this on all data since this is only done for information purposes,\n",
    "not for model selection (which is done in nested CV by `GridSearchCV`).\n",
    "\n",
    "Since we performed a five-fold validations, we have five values for each combination,\n",
    "so we need to calculate the average."
   ]
  },
  {
   "cell_type": "code",
   "execution_count": 58,
   "metadata": {},
   "outputs": [
    {
     "data": {
      "text/plain": "<Figure size 432x288 with 2 Axes>",
      "image/png": "[encoded data removed]"
     },
     "metadata": {
      "needs_background": "light"
     },
     "output_type": "display_data"
    }
   ],
   "source": [
    "%matplotlib inline\n",
    "from matplotlib import pyplot as plt\n",
    "\n",
    "features = np.zeros((len(param_grid['rf__n_estimators']), len(param_grid['rf__max_depth'])))\n",
    "for estimator in scores['estimator']:\n",
    "    features += estimator.cv_results_['mean_test_score'].reshape(features.shape)\n",
    "features /= len(scores['estimator'])\n",
    "\n",
    "im = plt.imshow(features, origin='lower')\n",
    "plt.colorbar(im)\n",
    "plt.xticks(np.arange(len(param_grid['rf__max_depth'])), param_grid['rf__max_depth'])\n",
    "plt.yticks(np.arange(len(param_grid['rf__n_estimators'])), param_grid['rf__n_estimators'])\n",
    "plt.xlabel(\"Tree depth\")\n",
    "plt.ylabel(\"Number of estimators\")\n",
    "plt.show()"
   ]
  },
  {
   "cell_type": "markdown",
   "source": [
    "No meaningful difference between these classifiers,\n",
    "but all equally bad -> all equally good."
   ],
   "metadata": {
    "collapsed": false,
    "pycharm": {
     "name": "#%% md\n"
    }
   }
  },
  {
   "cell_type": "markdown",
   "metadata": {},
   "source": [
    "### Overall performance\n",
    "Finally, we can look at the overall performance of our pipeline.\n",
    "The scores across all (outer) CV folds and its average are as follows:"
   ]
  },
  {
   "cell_type": "code",
   "execution_count": 59,
   "metadata": {},
   "outputs": [
    {
     "name": "stdout",
     "output_type": "stream",
     "text": [
      "Fold accuracy [0.3922114  0.3852573  0.4054242  0.42767733 0.46555324]\n",
      "Average accuracy 0.41522469446952825\n"
     ]
    }
   ],
   "source": [
    "print('Fold accuracy', scores['test_accuracy'])\n",
    "print('Average accuracy', np.mean(scores['test_accuracy']))"
   ]
  },
  {
   "cell_type": "markdown",
   "metadata": {},
   "source": [
    "### Assumptions for cross-validation"
   ]
  },
  {
   "cell_type": "markdown",
   "metadata": {},
   "source": [
    "The CV approach shown above shuffles all data before building the different folds.\n",
    "Therefore some observations of the same lizard may end up in the training set and\n",
    "some in the test set.\n",
    "Is this OK? Yes and no.\n",
    "It depends on the real-life situation that the CV is supposed to be a proxy for.\n",
    "This CV scheme is fine if we intend to use our system to identify the color of a\n",
    "lizard that we observe at a given time in a given place, assuming that we may have\n",
    "already observed that same lizard.\n",
    "\n",
    "What if we want to build a system that tries to predict the color of a new\n",
    "lizard never observed before? In this case we need to create our folds making\n",
    "sure that each lizard's data is never split between different folds.\n",
    "\n",
    "We can do this using [`GroupKFold`](https://scikit-learn.org/stable/modules/generated/sklearn.model_selection.GroupKFold.html)\n",
    "and passing the `groups` argument to `cross_validate`.\n",
    "This time we won't be able to impute based on the lizard ID\n",
    "(because each test-fold lizard ID will not be present in the corresponding training set)\n",
    "but we could use the cell number instead.\n",
    "Also, for simplicity we will not use the grid search."
   ]
  },
  {
   "cell_type": "code",
   "execution_count": 76,
   "metadata": {},
   "outputs": [],
   "source": [
    "from sklearn.model_selection import GroupKFold\n",
    "from sklearn.preprocessing import StandardScaler\n",
    "\n",
    "group = x[:, 0]\n",
    "# the column 0 is our group (i.e. each lizard's ID)\n",
    "\n",
    "cv = GroupKFold(n_splits=3)\n",
    "# split into into 3 groups\n",
    "\n",
    "imputer = GroupImputer(apply_to_columns=[1, 2], group_by_column=5)\n",
    "# use column 5 (cell) to impute missing coordinates\n",
    "\n",
    "dropper = ColumnTransformer([('dropper', 'drop', 0)], remainder='passthrough')\n",
    "# drop column 0 (ID) and leave others unchanged\n",
    "\n",
    "scl = StandardScaler()\n",
    "rf = RandomForestClassifier()\n",
    "pipe = Pipeline([\n",
    "    ('imputer', imputer),\n",
    "    ('dropper', dropper),\n",
    "    ('scaler', scl),\n",
    "    ('rf', rf)\n",
    "])\n",
    "\n",
    "scores = cross_validate(\n",
    "    pipe, x, y,\n",
    "    scoring=['accuracy'],\n",
    "    cv=cv,\n",
    "    groups=group,\n",
    "    return_estimator=True\n",
    ")"
   ]
  },
  {
   "cell_type": "markdown",
   "metadata": {},
   "source": [
    "Let's make sure that indeed `GroupKFold` splits the data\n",
    "so that each lizard's data is either completely in the training folds or in the test fold."
   ]
  },
  {
   "cell_type": "code",
   "execution_count": 77,
   "metadata": {},
   "outputs": [
    {
     "name": "stdout",
     "output_type": "stream",
     "text": [
      "Lizard IDs in training set\n",
      " [  0.   4.   5.   6.   7.   8.  10.  11.  14.  15.  16.  17.  19.  20.\n",
      "  22.  23.  24.  25.  26.  27.  30.  31.  32.  34.  35.  36.  43.  44.\n",
      "  46.  49.  50.  51.  53.  54.  55.  56.  57.  62.  64.  65.  66.  67.\n",
      "  68.  69.  70.  71.  72.  73.  76.  77.  78.  79.  80.  82.  83.  84.\n",
      "  88.  89.  90.  91.  93.  96.  97.  99. 100. 102. 103. 104. 105. 106.\n",
      " 107. 108. 110. 111. 112. 113. 115. 116. 117. 118. 121. 123. 124. 127.\n",
      " 130. 131. 132. 133. 134. 135. 141. 142. 143. 144. 145. 148. 150. 151.\n",
      " 152. 153. 154. 156. 157. 158. 159. 160. 161. 164. 166. 167. 168. 169.\n",
      " 170. 172. 173. 174. 175. 177. 178. 179.]\n",
      "Lizard IDs in test set\n",
      " [  1.   2.   3.   9.  12.  13.  18.  21.  28.  29.  33.  37.  38.  39.\n",
      "  40.  41.  42.  45.  47.  48.  52.  58.  59.  60.  61.  63.  74.  75.\n",
      "  81.  85.  86.  87.  92.  94.  95.  98. 101. 109. 114. 119. 120. 122.\n",
      " 125. 126. 128. 129. 136. 137. 138. 139. 140. 146. 147. 149. 155. 162.\n",
      " 163. 165. 171. 176.]\n",
      "---\n",
      "Lizard IDs in training set\n",
      " [  0.   1.   2.   3.   5.   8.   9.  10.  11.  12.  13.  14.  15.  16.\n",
      "  17.  18.  19.  21.  23.  24.  26.  28.  29.  31.  32.  33.  37.  38.\n",
      "  39.  40.  41.  42.  43.  45.  47.  48.  49.  50.  51.  52.  53.  55.\n",
      "  58.  59.  60.  61.  62.  63.  64.  66.  71.  72.  74.  75.  77.  79.\n",
      "  81.  83.  85.  86.  87.  88.  89.  91.  92.  94.  95.  96.  97.  98.\n",
      " 101. 103. 104. 108. 109. 110. 113. 114. 115. 116. 118. 119. 120. 122.\n",
      " 123. 125. 126. 127. 128. 129. 132. 136. 137. 138. 139. 140. 142. 143.\n",
      " 144. 146. 147. 149. 153. 155. 158. 159. 160. 162. 163. 165. 166. 168.\n",
      " 169. 171. 173. 174. 175. 176. 177. 179.]\n",
      "Lizard IDs in test set\n",
      " [  4.   6.   7.  20.  22.  25.  27.  30.  34.  35.  36.  44.  46.  54.\n",
      "  56.  57.  65.  67.  68.  69.  70.  73.  76.  78.  80.  82.  84.  90.\n",
      "  93.  99. 100. 102. 105. 106. 107. 111. 112. 117. 121. 124. 130. 131.\n",
      " 133. 134. 135. 141. 145. 148. 150. 151. 152. 154. 156. 157. 161. 164.\n",
      " 167. 170. 172. 178.]\n",
      "---\n",
      "Lizard IDs in training set\n",
      " [  1.   2.   3.   4.   6.   7.   9.  12.  13.  18.  20.  21.  22.  25.\n",
      "  27.  28.  29.  30.  33.  34.  35.  36.  37.  38.  39.  40.  41.  42.\n",
      "  44.  45.  46.  47.  48.  52.  54.  56.  57.  58.  59.  60.  61.  63.\n",
      "  65.  67.  68.  69.  70.  73.  74.  75.  76.  78.  80.  81.  82.  84.\n",
      "  85.  86.  87.  90.  92.  93.  94.  95.  98.  99. 100. 101. 102. 105.\n",
      " 106. 107. 109. 111. 112. 114. 117. 119. 120. 121. 122. 124. 125. 126.\n",
      " 128. 129. 130. 131. 133. 134. 135. 136. 137. 138. 139. 140. 141. 145.\n",
      " 146. 147. 148. 149. 150. 151. 152. 154. 155. 156. 157. 161. 162. 163.\n",
      " 164. 165. 167. 170. 171. 172. 176. 178.]\n",
      "Lizard IDs in test set\n",
      " [  0.   5.   8.  10.  11.  14.  15.  16.  17.  19.  23.  24.  26.  31.\n",
      "  32.  43.  49.  50.  51.  53.  55.  62.  64.  66.  71.  72.  77.  79.\n",
      "  83.  88.  89.  91.  96.  97. 103. 104. 108. 110. 113. 115. 116. 118.\n",
      " 123. 127. 132. 142. 143. 144. 153. 158. 159. 160. 166. 168. 169. 173.\n",
      " 174. 175. 177. 179.]\n",
      "---\n"
     ]
    }
   ],
   "source": [
    "for train, test in cv.split(x, groups=group):\n",
    "    print('Lizard IDs in training set\\n', np.unique(x[train, 0]))\n",
    "    print('Lizard IDs in test set\\n', np.unique(x[test, 0]))\n",
    "    print('---')"
   ]
  },
  {
   "cell_type": "markdown",
   "metadata": {},
   "source": [
    "Finally, we can look at the scores:"
   ]
  },
  {
   "cell_type": "code",
   "execution_count": 78,
   "metadata": {},
   "outputs": [
    {
     "name": "stdout",
     "output_type": "stream",
     "text": [
      "Fold accuracy [0.21693784 0.22412354 0.24207012]\n",
      "Average accuracy 0.22771049835295418\n"
     ]
    }
   ],
   "source": [
    "print('Fold accuracy', scores['test_accuracy'])\n",
    "print('Average accuracy', np.mean(scores['test_accuracy']))"
   ]
  },
  {
   "cell_type": "markdown",
   "metadata": {},
   "source": [
    "We see that the performance is quite poor. Let's have a look at the confusion matrix\n",
    "\n",
    "For each class, how many times did we predict that it was each class?\n",
    "\n",
    "Columns: predicted values\n",
    "\n",
    "Rows: real value\n",
    "\n",
    "```\n",
    "       | A out | B out | C out\n",
    "------ | ----- | ----- | -----\n",
    "real A | Right | Wrong | Wrong\n",
    "real B | Wrong | Right | Wrong\n",
    "real C | Wrong | Wrong | Right\n",
    "```"
   ]
  },
  {
   "cell_type": "code",
   "execution_count": 79,
   "metadata": {},
   "outputs": [
    {
     "data": {
      "text/plain": "array([[642, 863, 970],\n       [927, 423, 885],\n       [975, 932, 572]], dtype=int64)"
     },
     "execution_count": 79,
     "metadata": {},
     "output_type": "execute_result"
    }
   ],
   "source": [
    "from sklearn.model_selection import cross_val_predict\n",
    "from sklearn.metrics import confusion_matrix\n",
    "\n",
    "y_pred = cross_val_predict(pipe, x, y, cv=cv, groups=group)\n",
    "conf_mat = confusion_matrix(y, y_pred)\n",
    "conf_mat"
   ]
  },
  {
   "cell_type": "markdown",
   "metadata": {},
   "source": [
    "Our performace is worse than random.\n",
    "It's interesting how the correct class is always the one that is predicted least often\n",
    "(i.e. the diagonal is smaller than the other values).\n",
    "\n",
    "Is this an artifact of our algorithm,\n",
    "of the experimental design,\n",
    "or maybe lizards of the same colour tend to stay away from each other?\n",
    "\n",
    "Answering this very interesting question is beyond the scope of this notebook ;-)\n",
    "\n"
   ]
  },
  {
   "cell_type": "code",
   "execution_count": 63,
   "metadata": {},
   "outputs": [],
   "source": []
  },
  {
   "cell_type": "markdown",
   "source": [
    "Info for the assignment:\n",
    "* If stuff is being printed, explain why it's being printed.\n",
    "* Make some nice matplotlib graphs!\n",
    "    * Proper axes, proper size, proper colours, etc.\n",
    "    * takes time, but looks nice.\n",
    "    * Try not to use too many colours!\n",
    "        * Try using shapes for data points I guess to make it look legit\n"
   ],
   "metadata": {
    "collapsed": false,
    "pycharm": {
     "name": "#%% md\n"
    }
   }
  }
 ],
 "metadata": {
  "kernelspec": {
   "display_name": "Python 3",
   "language": "python",
   "name": "python3"
  },
  "language_info": {
   "codemirror_mode": {
    "name": "ipython",
    "version": 3
   },
   "file_extension": ".py",
   "mimetype": "text/x-python",
   "name": "python",
   "nbconvert_exporter": "python",
   "pygments_lexer": "ipython3",
   "version": "3.7.9"
  }
 },
 "nbformat": 4,
 "nbformat_minor": 5
}